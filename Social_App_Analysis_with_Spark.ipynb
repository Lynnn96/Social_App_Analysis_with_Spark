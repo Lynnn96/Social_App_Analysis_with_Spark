{
 "cells": [
  {
   "cell_type": "markdown",
   "metadata": {
    "colab_type": "text",
    "id": "vMivqD-jyZR8"
   },
   "source": []
  },
  {
   "cell_type": "markdown",
   "metadata": {
    "colab_type": "text",
    "id": "JpG1uKZwMog-"
   },
   "source": [
    "# Setting Up Colab and Spark\n",
    "\n",
    "Change this section to local pyspark setting if we want to submit a .py file"
   ]
  },
  {
   "cell_type": "code",
   "execution_count": 267,
   "metadata": {
    "colab": {
     "base_uri": "https://localhost:8080/",
     "height": 122
    },
    "colab_type": "code",
    "id": "oY33Bp8BzgTg",
    "outputId": "70320724-7f12-4db8-bc79-a3116c15afb1",
    "scrolled": true
   },
   "outputs": [],
   "source": [
    "from google.colab import drive\n",
    "drive.mount('/content/drive')"
   ]
  },
  {
   "cell_type": "code",
   "execution_count": 2,
   "metadata": {
    "colab": {},
    "colab_type": "code",
    "id": "SJFRBFdHzsbH"
   },
   "outputs": [
    {
     "name": "stdout",
     "output_type": "stream",
     "text": [
      "/bin/sh: apt-get: command not found\n",
      "/bin/sh: wget: command not found\n",
      "tar: Error opening archive: Failed to open 'spark-2.4.5-bin-hadoop2.7.tgz'\n",
      "\u001b[33mDEPRECATION: Python 2.7 will reach the end of its life on January 1st, 2020. Please upgrade your Python as Python 2.7 won't be maintained after that date. A future version of pip will drop support for Python 2.7. More details about Python 2 support in pip, can be found at https://pip.pypa.io/en/latest/development/release-process/#python-2-support\u001b[0m\n",
      "\u001b[31mERROR: Could not install packages due to an EnvironmentError: [Errno 13] Permission denied: '/Library/Python/2.7/site-packages/findspark.pyc'\n",
      "Consider using the `--user` option or check the permissions.\n",
      "\u001b[0m\n"
     ]
    }
   ],
   "source": [
    "!apt-get install openjdk-8-jdk-headless -qq > /dev/null\n",
    "!wget -q https://downloads.apache.org/spark/spark-2.4.5/spark-2.4.5-bin-hadoop2.7.tgz\n",
    "!tar xf spark-2.4.5-bin-hadoop2.7.tgz\n",
    "!pip install -q findspark"
   ]
  },
  {
   "cell_type": "code",
   "execution_count": 0,
   "metadata": {
    "colab": {},
    "colab_type": "code",
    "id": "wIpJDlTxzvTj"
   },
   "outputs": [],
   "source": [
    "import os\n",
    "\n",
    "os.environ[\"JAVA_HOME\"] = \"/usr/lib/jvm/java-8-openjdk-amd64\"\n",
    "os.environ[\"SPARK_HOME\"] = \"/content/spark-2.4.5-bin-hadoop2.7\"\n",
    "os.environ[\"PYTHONPATH\"] = \"/usr/local/lib/python3.6/\""
   ]
  },
  {
   "cell_type": "code",
   "execution_count": 21,
   "metadata": {},
   "outputs": [],
   "source": [
    "import findspark\n",
    "findspark.init()"
   ]
  },
  {
   "cell_type": "code",
   "execution_count": 22,
   "metadata": {
    "colab": {},
    "colab_type": "code",
    "id": "Hq7DcpFzzyel"
   },
   "outputs": [],
   "source": [
    "import findspark\n",
    "findspark.init()\n",
    "from pyspark.sql import SparkSession\n",
    "spark = SparkSession.builder.config('spark.jars.packages', 'databricks:spark-deep-learning:1.3.0-spark2.4-s_2.11').master(\"local[*]\").getOrCreate()"
   ]
  },
  {
   "cell_type": "markdown",
   "metadata": {
    "colab_type": "text",
    "id": "MtJEVlfyMwS3"
   },
   "source": [
    "# Load Dataset"
   ]
  },
  {
   "cell_type": "code",
   "execution_count": 67,
   "metadata": {
    "colab": {},
    "colab_type": "code",
    "id": "8coieDzs0sZP"
   },
   "outputs": [],
   "source": [
    "# Reading parquet dataset\n",
    "transaction = spark\\\n",
    "            .read\\\n",
    "            .format('parquet')\\\n",
    "            .option(\"encoding\", \"UTF-8\") \\\n",
    "            .load(r'VenmoSample.snappy.parquet')"
   ]
  },
  {
   "cell_type": "code",
   "execution_count": 5,
   "metadata": {
    "colab": {
     "base_uri": "https://localhost:8080/",
     "height": 204
    },
    "colab_type": "code",
    "id": "w2eTlBBV0_Zl",
    "outputId": "44c82412-af93-4897-9b36-80054432286f"
   },
   "outputs": [
    {
     "name": "stdout",
     "output_type": "stream",
     "text": [
      "+-------+-------+----------------+-------------------+------------+-----------+--------------------+\n",
      "|  user1|  user2|transaction_type|           datetime| description|is_business|            story_id|\n",
      "+-------+-------+----------------+-------------------+------------+-----------+--------------------+\n",
      "|1218774|1528945|         payment|2015-11-27 02:48:19|        Uber|      false|5657c473cd03c9af2...|\n",
      "|5109483|4782303|         payment|2015-06-17 04:37:04|      Costco|      false|5580f9702b64f70ab...|\n",
      "|4322148|3392963|         payment|2015-06-19 00:05:31|Sweaty balls|      false|55835ccb1a624b14a...|\n",
      "| 469894|1333620|          charge|2016-06-03 16:34:13|          🎥|      false|5751b185cd03c9af2...|\n",
      "|2960727|3442373|         payment|2016-05-29 16:23:42|           ⚡|      false|574b178ecd03c9af2...|\n",
      "+-------+-------+----------------+-------------------+------------+-----------+--------------------+\n",
      "only showing top 5 rows\n",
      "\n"
     ]
    }
   ],
   "source": [
    "transaction.show(5)"
   ]
  },
  {
   "cell_type": "code",
   "execution_count": 7,
   "metadata": {
    "colab": {},
    "colab_type": "code",
    "id": "CeZHZ93T1B9i"
   },
   "outputs": [],
   "source": [
    "# Reading csv file - word dictionary\n",
    "word = spark\\\n",
    "            .read\\\n",
    "            .option('header','true')\\\n",
    "            .option('inferSchema','true')\\\n",
    "            .csv(r'Venmo Word Classification Dictonary BAX-243 - Word_Dict.csv')"
   ]
  },
  {
   "cell_type": "code",
   "execution_count": 9,
   "metadata": {
    "colab": {
     "base_uri": "https://localhost:8080/",
     "height": 204
    },
    "colab_type": "code",
    "id": "oa_tuCbU1J2l",
    "outputId": "bf684db8-546f-412f-c990-9ac85ea6f5d9"
   },
   "outputs": [
    {
     "name": "stdout",
     "output_type": "stream",
     "text": [
      "+----------+---------+---------+--------+-------+---------------+-----------+-----+----------------+\n",
      "|   People |    Food |   Event |Activity|Travel |Transportation |   Utility | Cash|Illegal/Sarcasm |\n",
      "+----------+---------+---------+--------+-------+---------------+-----------+-----+----------------+\n",
      "|    friend|     food| birthday|    ball|  beach|           lyft|       bill| atm |       addiction|\n",
      "|friendship|      bbq|christmas|    boat|  place|           uber|      cable|bank |            drug|\n",
      "|      baby|     bean|    happy|     bar|     la|            cab|        fee|cash |           wangs|\n",
      "|       boy|    latte|     bday|    book|  world|            bus|   electric|money|            weed|\n",
      "|      girl|breakfast|  wedding|    club|  hotel|            car|electricity| buck|            anal|\n",
      "+----------+---------+---------+--------+-------+---------------+-----------+-----+----------------+\n",
      "only showing top 5 rows\n",
      "\n"
     ]
    }
   ],
   "source": [
    "word.show(5)"
   ]
  },
  {
   "cell_type": "code",
   "execution_count": 8,
   "metadata": {
    "colab": {},
    "colab_type": "code",
    "id": "9qhO6kTq1Lpn"
   },
   "outputs": [],
   "source": [
    "# Reading csv dataset\n",
    "emoji_data = spark\\\n",
    "            .read\\\n",
    "            .option('header','true')\\\n",
    "            .option('inferSchema','true')\\\n",
    "            .csv(r'Venmo_Emoji_Classification_Dictionary.csv')"
   ]
  },
  {
   "cell_type": "code",
   "execution_count": 12,
   "metadata": {
    "colab": {
     "base_uri": "https://localhost:8080/",
     "height": 204
    },
    "colab_type": "code",
    "id": "fLS2bRke1Qfd",
    "outputId": "94037fd0-f5d9-4cf6-c03b-c957767c1830"
   },
   "outputs": [
    {
     "name": "stdout",
     "output_type": "stream",
     "text": [
      "+-----+------+----+--------+--------------+------+-------+\n",
      "|Event|Travel|Food|Activity|Transportation|People|Utility|\n",
      "+-----+------+----+--------+--------------+------+-------+\n",
      "| 🇦🇺|    🏔|  🍇|      👾|            🚄|    😀|      ⚡|\n",
      "| 🇫🇷|     ⛰|  🍈|      🕴|            🚅|    😃|     💡|\n",
      "|   🎂|    🌋|  🍉|      🎪|            🚆|    😄|     🔌|\n",
      "|   🛍|    🗻|  🍊|      🎭|            🚇|    😁|     📺|\n",
      "| 🇨🇦|    🏕|  🍋|      🎨|            🚈|    😆|     🔌|\n",
      "+-----+------+----+--------+--------------+------+-------+\n",
      "only showing top 5 rows\n",
      "\n"
     ]
    }
   ],
   "source": [
    "emoji_data.show(5)"
   ]
  },
  {
   "cell_type": "markdown",
   "metadata": {
    "colab_type": "text",
    "id": "U0-KinPENUc-"
   },
   "source": [
    "# Question 1: Classify Transactions"
   ]
  },
  {
   "cell_type": "code",
   "execution_count": 9,
   "metadata": {
    "colab": {
     "base_uri": "https://localhost:8080/",
     "height": 207
    },
    "colab_type": "code",
    "id": "AsGArDw_PqHV",
    "outputId": "5a5e40ee-d14d-4394-dd49-afd1ce98593d",
    "scrolled": false
   },
   "outputs": [
    {
     "name": "stdout",
     "output_type": "stream",
     "text": [
      "\u001b[33mDEPRECATION: Python 2.7 will reach the end of its life on January 1st, 2020. Please upgrade your Python as Python 2.7 won't be maintained after that date. A future version of pip will drop support for Python 2.7. More details about Python 2 support in pip, can be found at https://pip.pypa.io/en/latest/development/release-process/#python-2-support\u001b[0m\n",
      "Requirement already satisfied: emoji in /Users/honglinshuo/Library/Python/2.7/lib/python/site-packages (0.5.4)\n"
     ]
    }
   ],
   "source": [
    "! pip install emoji "
   ]
  },
  {
   "cell_type": "code",
   "execution_count": 18,
   "metadata": {
    "scrolled": true
   },
   "outputs": [
    {
     "name": "stdout",
     "output_type": "stream",
     "text": [
      "Requirement already satisfied: emoji in /opt/anaconda3/lib/python3.7/site-packages/emoji-0.5.3-py3.7.egg (0.5.3)\r\n"
     ]
    }
   ],
   "source": [
    "import sys\n",
    "!{sys.executable} -m pip install emoji"
   ]
  },
  {
   "cell_type": "code",
   "execution_count": 17,
   "metadata": {},
   "outputs": [
    {
     "name": "stdout",
     "output_type": "stream",
     "text": [
      "\u001b[33mDEPRECATION: Python 2.7 will reach the end of its life on January 1st, 2020. Please upgrade your Python as Python 2.7 won't be maintained after that date. A future version of pip will drop support for Python 2.7. More details about Python 2 support in pip, can be found at https://pip.pypa.io/en/latest/development/release-process/#python-2-support\u001b[0m\n",
      "\u001b[33mWARNING: Skipping pyserial as it is not installed.\u001b[0m\n"
     ]
    }
   ],
   "source": [
    "!python -m pip uninstall pyserial --yes"
   ]
  },
  {
   "cell_type": "code",
   "execution_count": 292,
   "metadata": {
    "colab": {},
    "colab_type": "code",
    "id": "4d2GJIp91SPg"
   },
   "outputs": [],
   "source": [
    "from pyspark.ml.feature import Tokenizer, RegexTokenizer, StopWordsRemover\n",
    "from pyspark.sql.types import ArrayType, StructType, StructField, StringType, IntegerType\n",
    "from pyspark.sql import Row\n",
    "import emoji as em\n",
    "import re\n",
    "from pyspark.sql.functions import col, concat, count, sum\n",
    "import pyspark.sql.functions as F\n",
    "from pyspark.sql.window import Window\n",
    "import math\n",
    "from pyspark.sql.types import IntegerType\n",
    "import matplotlib.pyplot as plt\n",
    "import numpy as np"
   ]
  },
  {
   "cell_type": "code",
   "execution_count": 269,
   "metadata": {
    "colab": {},
    "colab_type": "code",
    "id": "pXQN9xOi1WJB"
   },
   "outputs": [],
   "source": [
    "# Extact emojis by using emoji library to identify emojis\n",
    "def extract_emojis(str):\n",
    "    return ' '.join(c for c in str if c in em.UNICODE_EMOJI)\n",
    "extract_emoji_udf = F.udf(lambda row:extract_emojis(row))\n",
    "with_emoji = transaction.withColumn('emoji', extract_emoji_udf(F.col('description')))\n",
    "\n",
    "# Tonkenize transaction's emoji and text description\n",
    "tkn_extracted_emoji = RegexTokenizer().setInputCol('emoji').setOutputCol('emoji_list').setPattern(' ')\n",
    "with_emoji = tkn_extracted_emoji.transform(with_emoji)\n",
    "tkn_text = RegexTokenizer().setInputCol('description').setOutputCol('descList').setPattern(' ')\n",
    "tokenized_text = tkn_text.transform(with_emoji)"
   ]
  },
  {
   "cell_type": "code",
   "execution_count": 270,
   "metadata": {
    "colab": {},
    "colab_type": "code",
    "id": "wgu49adI1iFn"
   },
   "outputs": [],
   "source": [
    "# Combine emoji and words into one array\n",
    "match_text = tokenized_text.withColumn(\"match_list\",concat(col(\"emoji_list\"), col(\"descList\")))\n",
    "columns_to_drop = ['emoji','descList']\n",
    "df_final_words = match_text.drop(*columns_to_drop)"
   ]
  },
  {
   "cell_type": "code",
   "execution_count": 271,
   "metadata": {
    "colab": {},
    "colab_type": "code",
    "id": "oDGsHnvN1neQ"
   },
   "outputs": [],
   "source": [
    "# Creat lists for text categories\n",
    "people_text = [str(row['People ']) for row in word.select('People ').collect()]\n",
    "food_text = [str(row['Food ']) for row in word.select('Food ').collect()]\n",
    "event_text = [str(row['Event ']) for row in word.select('Event ').collect()]\n",
    "activity_text = [str(row['Activity']) for row in word.select('Activity').collect()]\n",
    "travel_text = [str(row['Travel ']) for row in word.select('Travel ').collect()]\n",
    "tranportation_text = [str(row['Transportation ']) for row in word.select('Transportation ').collect()]\n",
    "utility_text = [str(row['Utility ']) for row in word.select('Utility ').collect()]\n",
    "cash_text = [str(row['Cash']) for row in word.select('Cash').collect()]\n",
    "illegal_text = [str(row['Illegal/Sarcasm ']) for row in word.select('Illegal/Sarcasm ').collect()]"
   ]
  },
  {
   "cell_type": "code",
   "execution_count": 272,
   "metadata": {
    "colab": {},
    "colab_type": "code",
    "id": "514WTNUR1u6o"
   },
   "outputs": [],
   "source": [
    "# Creat lists for emoji categories\n",
    "people_emoji = [str(row['People']) for row in emoji_data.select('People').collect()]\n",
    "food_emoji = [str(row['Food']) for row in emoji_data.select('Food').collect()]\n",
    "event_emoji = [str(row['Event']) for row in emoji_data.select('Event').collect()]\n",
    "activity_emoji = [str(row['Activity']) for row in emoji_data.select('Activity').collect()]\n",
    "travel_emoji = [str(row['Travel']) for row in emoji_data.select('Travel').collect()]\n",
    "tranportation_emoji = [str(row['Transportation']) for row in emoji_data.select('Transportation').collect()]\n",
    "utility_emoji = [str(row['Utility']) for row in emoji_data.select('Utility').collect()]"
   ]
  },
  {
   "cell_type": "code",
   "execution_count": 273,
   "metadata": {
    "colab": {},
    "colab_type": "code",
    "id": "S5ma-2ME1w3z"
   },
   "outputs": [],
   "source": [
    "# Detect words and emojis categories\n",
    "check_transportation = F.udf(lambda x: 'transportation' if any(word in tranportation_text for word in x) or any(emo in tranportation_emoji for emo in x) else None)\n",
    "check_people = F.udf(lambda x: 'people' if any(word in people_text for word in x) or any(emo in people_emoji for emo in x) else None)\n",
    "check_food = F.udf(lambda x: 'food' if any(word in food_text for word in x) or any(emo in food_emoji for emo in x) else None)\n",
    "check_event = F.udf(lambda x: 'event' if any(word in event_text for word in x) or any(emo in event_emoji for emo in x) else None)\n",
    "check_activity = F.udf(lambda x: 'activity' if any(word in activity_text for word in x) or any(emo in activity_emoji for emo in x) else None)\n",
    "check_travel = F.udf(lambda x: 'travel' if any(word in travel_text for word in x) or any(emo in travel_emoji for emo in x) else None)\n",
    "check_utility = F.udf(lambda x: 'utility' if any(word in utility_text for word in x) or any(emo in utility_emoji for emo in x) else None)\n",
    "check_cash = F.udf(lambda x: 'cash' if any(word in cash_text for word in x) else None)\n",
    "check_illegal = F.udf(lambda x: 'illegal' if any(word in illegal_text for word in x) else None)"
   ]
  },
  {
   "cell_type": "code",
   "execution_count": 274,
   "metadata": {
    "colab": {},
    "colab_type": "code",
    "id": "MJFrXhHy1zLc"
   },
   "outputs": [],
   "source": [
    "category_df = df_final_words.withColumn('check_transportation', check_transportation(F.col('match_list')))\n",
    "category_df = category_df.withColumn('check_people', check_people(F.col('match_list')))\n",
    "category_df = category_df.withColumn('check_food', check_food(F.col('match_list')))\n",
    "category_df = category_df.withColumn('check_event', check_event(F.col('match_list')))\n",
    "category_df = category_df.withColumn('check_activity', check_activity(F.col('match_list')))\n",
    "category_df = category_df.withColumn('check_travel', check_travel(F.col('match_list')))\n",
    "category_df = category_df.withColumn('check_utility', check_utility(F.col('match_list')))\n",
    "category_df = category_df.withColumn('check_cash', check_cash(F.col('match_list')))\n",
    "category_df = category_df.withColumn('check_illegal', check_illegal(F.col('match_list')))"
   ]
  },
  {
   "cell_type": "code",
   "execution_count": 275,
   "metadata": {
    "colab": {},
    "colab_type": "code",
    "id": "DqhvroSh11Gx"
   },
   "outputs": [],
   "source": [
    "# Assign categories to each transaction\n",
    "category_df = category_df.withColumn(\"category\",F.array(col(\"check_transportation\"), col(\"check_people\"),col(\"check_food\"), col(\"check_event\"),\n",
    "        col(\"check_activity\"), col(\"check_travel\"),col(\"check_utility\"), col(\"check_cash\"),col(\"check_illegal\")))"
   ]
  },
  {
   "cell_type": "code",
   "execution_count": 276,
   "metadata": {
    "colab": {},
    "colab_type": "code",
    "id": "QtInyvBE13s7"
   },
   "outputs": [],
   "source": [
    "# Clean None in the category array\n",
    "def eleminate_null(list_cate):\n",
    "    for element in list_cate:\n",
    "        if element != None:\n",
    "            return element"
   ]
  },
  {
   "cell_type": "code",
   "execution_count": 277,
   "metadata": {
    "colab": {
     "base_uri": "https://localhost:8080/",
     "height": 224
    },
    "colab_type": "code",
    "id": "ZYu6YS-115pq",
    "outputId": "bc55e44b-3c73-452c-ca83-fe3a0d16d8e3"
   },
   "outputs": [],
   "source": [
    "eleminate_null_udf = F.udf(lambda row:[eleminate_null(row)], ArrayType(StringType()))\n",
    "clean_category_df = category_df.withColumn('clean_category', eleminate_null_udf(F.col('category')))\n",
    "columns_to_drop = ['check_transportation','check_people','check_food','check_event',\n",
    "                  'check_activity','check_travel','check_utility','check_cash','check_illegal','category']\n",
    "clean_category_df = clean_category_df.drop(*columns_to_drop)\n",
    "#clean_category_df.show(5)"
   ]
  },
  {
   "cell_type": "markdown",
   "metadata": {
    "colab_type": "text",
    "id": "SZK-JEupOm6P"
   },
   "source": [
    "# Question 2: Emoji Only Transactions"
   ]
  },
  {
   "cell_type": "code",
   "execution_count": 278,
   "metadata": {
    "colab": {},
    "colab_type": "code",
    "id": "JobngYHJOuR6"
   },
   "outputs": [],
   "source": [
    "import string  "
   ]
  },
  {
   "cell_type": "markdown",
   "metadata": {
    "colab_type": "text",
    "id": "mrkk5N3nP_75"
   },
   "source": [
    "## 2.1 What is the percent of emoji only transactions?"
   ]
  },
  {
   "cell_type": "code",
   "execution_count": 279,
   "metadata": {
    "colab": {},
    "colab_type": "code",
    "id": "48l8bISbPPXf"
   },
   "outputs": [],
   "source": [
    "def check_emoji_only(check_list):\n",
    "    if len(check_list)==0:\n",
    "        return 0\n",
    "    else:\n",
    "        if any(x.isalpha()==True for x in check_list) or any(x.isdigit()==True for x in check_list):\n",
    "            return 0\n",
    "        else:\n",
    "            if any(i in string.punctuation for i in check_list):\n",
    "                return 0\n",
    "            else:\n",
    "                return 1"
   ]
  },
  {
   "cell_type": "code",
   "execution_count": 49,
   "metadata": {
    "colab": {
     "base_uri": "https://localhost:8080/",
     "height": 34
    },
    "colab_type": "code",
    "id": "7mFaKXYYPYFM",
    "outputId": "d94446c3-3332-43d7-b229-590e29f1ca65"
   },
   "outputs": [
    {
     "name": "stdout",
     "output_type": "stream",
     "text": [
      "Emoji only transaction proportion:  0.2597425017963242\n"
     ]
    }
   ],
   "source": [
    "filter_emoji_only = F.udf(lambda row:check_emoji_only(row))\n",
    "emoji_only_df = clean_category_df.withColumn('emoji_only', filter_emoji_only(col('description')))\n",
    "subset_emoji_only_df = emoji_only_df.where('emoji_only = 1')\n",
    "print('Emoji only transaction proportion: ', subset_emoji_only_df.count()/emoji_only_df.count())"
   ]
  },
  {
   "cell_type": "markdown",
   "metadata": {
    "colab_type": "text",
    "id": "dZgJU_NqQGSJ"
   },
   "source": [
    "## 2.2 Which are the top 5 most popular emoji?"
   ]
  },
  {
   "cell_type": "code",
   "execution_count": 50,
   "metadata": {
    "colab": {
     "base_uri": "https://localhost:8080/",
     "height": 204
    },
    "colab_type": "code",
    "id": "-tk0Jlc0Pbed",
    "outputId": "7471cf6a-2ae6-4ec3-ed6b-27f312cc7aca"
   },
   "outputs": [
    {
     "name": "stdout",
     "output_type": "stream",
     "text": [
      "+-----+------+\n",
      "|emoji| count|\n",
      "+-----+------+\n",
      "|   🍕|215039|\n",
      "|   🍻|145233|\n",
      "|   💸|124727|\n",
      "|   🍷|111157|\n",
      "|   🎉| 94327|\n",
      "+-----+------+\n",
      "only showing top 5 rows\n",
      "\n"
     ]
    }
   ],
   "source": [
    "# subset_emoji_only_df_extract_emoji = subset_emoji_only_df.withColumn('extracted_emoji', extract_emoji_udf(col('description')))\n",
    "# tkn_extracted_emoji = RegexTokenizer().setInputCol('extracted_emoji').setOutputCol('emoji_list').setPattern(' ')\n",
    "# subset_emoji_only_df_extract_emoji = tkn_extracted_emoji.transform(subset_emoji_only_df_extract_emoji)\n",
    "\n",
    "counts = clean_category_df.select(F.explode('emoji_list').alias('col')).groupBy('col').count().collect()\n",
    "clean_list = [(row['col'], row['count'] )for row in counts]\n",
    "emoji_frequency_df = spark.createDataFrame(clean_list , ['emoji','count'])\n",
    "emoji_frequency_df.orderBy(col('count').desc()).show(5)"
   ]
  },
  {
   "cell_type": "markdown",
   "metadata": {
    "colab_type": "text",
    "id": "IFbY401gQhYM"
   },
   "source": [
    "## 2.3 Which are the top three most popular emoji categories"
   ]
  },
  {
   "cell_type": "code",
   "execution_count": 280,
   "metadata": {
    "colab": {},
    "colab_type": "code",
    "id": "E7nHIxwRQl9D"
   },
   "outputs": [],
   "source": [
    "def assign_category(emo):\n",
    "    if emo in tranportation_emoji:\n",
    "        return 'transportation'\n",
    "    elif emo in people_emoji:\n",
    "        return 'people'\n",
    "    elif emo in food_emoji:\n",
    "        return 'food'\n",
    "    elif emo in event_emoji:\n",
    "        return 'event'\n",
    "    elif emo in activity_emoji:\n",
    "        return 'activity'\n",
    "    elif emo in travel_emoji:\n",
    "        return 'travel'\n",
    "    elif emo in utility_emoji:\n",
    "        return 'utility'\n",
    "    else:\n",
    "        return 'others'"
   ]
  },
  {
   "cell_type": "code",
   "execution_count": 52,
   "metadata": {
    "colab": {
     "base_uri": "https://localhost:8080/",
     "height": 187
    },
    "colab_type": "code",
    "id": "D4r0lBJfQpJT",
    "outputId": "beb41aa9-85fd-415b-c7b6-3640b6a03d4b"
   },
   "outputs": [
    {
     "name": "stdout",
     "output_type": "stream",
     "text": [
      "+--------+----------+\n",
      "|category|sum(count)|\n",
      "+--------+----------+\n",
      "|  others|   1852061|\n",
      "|    food|   1744390|\n",
      "|  people|   1011889|\n",
      "|activity|    423988|\n",
      "+--------+----------+\n",
      "only showing top 4 rows\n",
      "\n"
     ]
    }
   ],
   "source": [
    "assign_category_udf = F.udf(lambda row:assign_category(row))\n",
    "emoji_frequency_df_with_category = emoji_frequency_df.withColumn('category', assign_category_udf(col('emoji')))\n",
    "# Because there are some emojis not in the emoji dictionary, we show 4 most popular categories including 'other' category\n",
    "emoji_frequency_df_with_category.groupBy('category').sum('count').orderBy(col('sum(count)').desc()).show(4)"
   ]
  },
  {
   "cell_type": "markdown",
   "metadata": {
    "colab_type": "text",
    "id": "dK6TsfVHOu1F"
   },
   "source": [
    "# Question 3: User Spending Profile"
   ]
  },
  {
   "cell_type": "code",
   "execution_count": 281,
   "metadata": {
    "colab": {},
    "colab_type": "code",
    "id": "6YRf75NIhv7Q"
   },
   "outputs": [],
   "source": [
    "clean_category_df.show(5)"
   ]
  },
  {
   "cell_type": "code",
   "execution_count": 282,
   "metadata": {
    "colab": {},
    "colab_type": "code",
    "id": "Y5KY-Lp6he7Y"
   },
   "outputs": [],
   "source": [
    "# We assume one transaction can possibly belong to two categories, so we extract them out if there's any.\n",
    "transaction_df = clean_category_df.select(col(\"user1\").alias('User'),'datetime','story_id',\n",
    "                                          F.explode(\"clean_category\").alias(\"clean_category\"))"
   ]
  },
  {
   "cell_type": "code",
   "execution_count": 283,
   "metadata": {
    "colab": {},
    "colab_type": "code",
    "id": "dE4F4qjshfC_"
   },
   "outputs": [],
   "source": [
    "transaction_df.createOrReplaceTempView(\"transaction_cate\")"
   ]
  },
  {
   "cell_type": "code",
   "execution_count": 284,
   "metadata": {
    "colab": {},
    "colab_type": "code",
    "id": "3kJGcMEkhfGS"
   },
   "outputs": [],
   "source": [
    "trans_profile = spark.sql(\"\"\"SELECT User, \n",
    "                        SUM(CASE WHEN T.clean_category = 'activity' THEN 1 ELSE 0 END)/count('story_id') AS activity,\n",
    "                        SUM(CASE WHEN T.clean_category = 'cash' THEN 1 ELSE 0 END)/count('story_id') AS cash,\n",
    "                        SUM(CASE WHEN T.clean_category = 'event' THEN 1 ELSE 0 END)/count('story_id') AS event,\n",
    "                        SUM(CASE WHEN T.clean_category = 'food' THEN 1 ELSE 0 END)/count('story_id') AS food,\n",
    "                        SUM(CASE WHEN T.clean_category = 'illegal' THEN 1 ELSE 0 END)/count('story_id') AS illegal,\n",
    "                        SUM(CASE WHEN T.clean_category = 'people' THEN 1 ELSE 0 END)/count('story_id') AS people,\n",
    "                        SUM(CASE WHEN T.clean_category = 'transportation' THEN 1 ELSE 0 END)/count('story_id') AS transportation,\n",
    "                        SUM(CASE WHEN T.clean_category = 'travel' THEN 1 ELSE 0 END)/count('story_id') AS travel,\n",
    "                        SUM(CASE WHEN T.clean_category = 'utility' THEN 1 ELSE 0 END)/count('story_id') AS utility\n",
    "            from transaction_cate T \n",
    "            group by User\"\"\")"
   ]
  },
  {
   "cell_type": "code",
   "execution_count": 0,
   "metadata": {
    "colab": {
     "base_uri": "https://localhost:8080/",
     "height": 204
    },
    "colab_type": "code",
    "id": "SpCTa3shhfJD",
    "outputId": "e60ec510-ec6c-436e-b841-4755b22a5d74"
   },
   "outputs": [
    {
     "name": "stdout",
     "output_type": "stream",
     "text": [
      "+-------+--------+----+-----+----+-------+------+--------------+------+-------+\n",
      "|   User|activity|cash|event|food|illegal|people|transportation|travel|utility|\n",
      "+-------+--------+----+-----+----+-------+------+--------------+------+-------+\n",
      "|3891364|     0.5| 0.0|  0.0| 0.0|    0.0|   0.5|           0.0|   0.0|    0.0|\n",
      "|4136881|     0.0| 0.0|  0.0|0.75|    0.0|   0.0|           0.0|   0.0|    0.0|\n",
      "|1841732|     0.0| 0.0|  0.0| 0.3|    0.0|   0.3|           0.0|   0.0|    0.2|\n",
      "|2281658|     0.0| 0.0|  0.0| 0.0|   0.25|  0.25|           0.0|   0.0|    0.0|\n",
      "| 204908|    0.04| 0.0|  0.0|0.32|   0.04|  0.04|          0.24|   0.0|    0.0|\n",
      "+-------+--------+----+-----+----+-------+------+--------------+------+-------+\n",
      "only showing top 5 rows\n",
      "\n"
     ]
    }
   ],
   "source": [
    "trans_profile.show(5)"
   ]
  },
  {
   "cell_type": "markdown",
   "metadata": {
    "colab_type": "text",
    "id": "tMvRhk2AjOxt"
   },
   "source": [
    "# Q4: User’s dynamic spending profile"
   ]
  },
  {
   "cell_type": "code",
   "execution_count": 0,
   "metadata": {
    "colab": {},
    "colab_type": "code",
    "id": "r5DgHOEFh6_6"
   },
   "outputs": [],
   "source": [
    "transaction_df.show(5)"
   ]
  },
  {
   "cell_type": "code",
   "execution_count": 0,
   "metadata": {
    "colab": {},
    "colab_type": "code",
    "id": "SIL_EX6Rh7C1"
   },
   "outputs": [],
   "source": [
    "# Calculate the number of days passed wince the user's first transaction \n",
    "window = Window.partitionBy('User')\n",
    "\n",
    "trans_with_daysPassed = transaction_df.withColumn(\"daysPassed\", F.datediff(\"dateTime\", F.min(\"dateTime\").over(window)))"
   ]
  },
  {
   "cell_type": "code",
   "execution_count": 0,
   "metadata": {
    "colab": {},
    "colab_type": "code",
    "id": "-UXdCC8th7Hr"
   },
   "outputs": [],
   "source": [
    "# Transfer daysPassed to number of month the user is currently in\n",
    "assign_month = F.udf(lambda x: 0 if (x == 0) else math.ceil(x/30))\n",
    "\n",
    "category_with_month = trans_with_daysPassed.withColumn('month', assign_month(F.col('daysPassed')))\n",
    "category_with_month = category_with_month.withColumn(\"month\", category_with_month[\"month\"].cast(IntegerType()))"
   ]
  },
  {
   "cell_type": "code",
   "execution_count": 0,
   "metadata": {
    "colab": {},
    "colab_type": "code",
    "id": "904CEM5Qh7Me"
   },
   "outputs": [],
   "source": [
    "category_with_month.show(5)"
   ]
  },
  {
   "cell_type": "code",
   "execution_count": 0,
   "metadata": {
    "colab": {},
    "colab_type": "code",
    "id": "2sv3w3Uhh7Pg"
   },
   "outputs": [],
   "source": [
    "# Since we only consider 0-12 months. We filter the other data to increase the computing efficiency\n",
    "category_with_month.createOrReplaceTempView(\"category_with_month\")\n",
    "cate_month_12 = spark.sql(\"\"\"SELECT * FROM category_with_month WHERE month <= 12\"\"\")"
   ]
  },
  {
   "cell_type": "code",
   "execution_count": 0,
   "metadata": {
    "colab": {},
    "colab_type": "code",
    "id": "yQYAyIOxh7KW"
   },
   "outputs": [],
   "source": [
    "# Calculate the number of transactions for each user and each month in each category\n",
    "cate_month_12.createOrReplaceTempView(\"cate_month_12\")"
   ]
  },
  {
   "cell_type": "code",
   "execution_count": 0,
   "metadata": {
    "colab": {},
    "colab_type": "code",
    "id": "dJFzY6bgh7F1"
   },
   "outputs": [],
   "source": [
    "profile_month = spark.sql(\"\"\"SELECT User, month,\n",
    "                        count(story_id) AS total_trans,\n",
    "                        SUM(CASE WHEN T.clean_category = 'activity' THEN 1 ELSE 0 END) AS activity_num,\n",
    "                        SUM(CASE WHEN T.clean_category = 'cash' THEN 1 ELSE 0 END) AS cash_num,\n",
    "                        SUM(CASE WHEN T.clean_category = 'event' THEN 1 ELSE 0 END) AS event_num,\n",
    "                        SUM(CASE WHEN T.clean_category = 'food' THEN 1 ELSE 0 END) AS food_num,\n",
    "                        SUM(CASE WHEN T.clean_category = 'illegal' THEN 1 ELSE 0 END) AS illegal_num,\n",
    "                        SUM(CASE WHEN T.clean_category = 'people' THEN 1 ELSE 0 END) AS people_num,\n",
    "                        SUM(CASE WHEN T.clean_category = 'transportation' THEN 1 ELSE 0 END) AS transportation_num,\n",
    "                        SUM(CASE WHEN T.clean_category = 'travel' THEN 1 ELSE 0 END) AS travel_num,\n",
    "                        SUM(CASE WHEN T.clean_category = 'utility' THEN 1 ELSE 0 END) AS utility_num\n",
    "            from cate_month_12 T \n",
    "            group by User, month\"\"\")"
   ]
  },
  {
   "cell_type": "code",
   "execution_count": 0,
   "metadata": {
    "colab": {},
    "colab_type": "code",
    "id": "Ljq42oUXhfQs"
   },
   "outputs": [],
   "source": [
    "profile_month = profile_month.orderBy('User','month',ascending=False)"
   ]
  },
  {
   "cell_type": "code",
   "execution_count": 0,
   "metadata": {
    "colab": {},
    "colab_type": "code",
    "id": "JJOYGpSkiWSE"
   },
   "outputs": [],
   "source": [
    "# Calculate the cumulative number of transactions for each user, month and category\n",
    "profile_month.createOrReplaceTempView(\"profile_month\")\n",
    "window = Window.partitionBy('User').orderBy(profile_month[\"month\"].asc()).rowsBetween(Window.unboundedPreceding, Window.currentRow)"
   ]
  },
  {
   "cell_type": "code",
   "execution_count": 0,
   "metadata": {
    "colab": {},
    "colab_type": "code",
    "id": "oFZlLNrniWVP"
   },
   "outputs": [],
   "source": [
    "dynamic_profile = profile_month.withColumn(\"total_sum\", sum(\"total_trans\").over(window))\\\n",
    "                                .withColumn(\"activity\", sum(\"activity_num\").over(window))\\\n",
    "                                .withColumn(\"cash\", sum(\"cash_num\").over(window))\\\n",
    "                                .withColumn(\"event\", sum(\"event_num\").over(window))\\\n",
    "                                .withColumn(\"food\", sum(\"food_num\").over(window))\\\n",
    "                                .withColumn(\"illegal\", sum(\"illegal_num\").over(window))\\\n",
    "                                .withColumn(\"people\", sum(\"people_num\").over(window))\\\n",
    "                                .withColumn(\"transportation\", sum(\"transportation_num\").over(window))\\\n",
    "                                .withColumn(\"travel\", sum(\"travel_num\").over(window))\\\n",
    "                                .withColumn(\"utility\", sum(\"utility_num\").over(window))\\"
   ]
  },
  {
   "cell_type": "code",
   "execution_count": 0,
   "metadata": {
    "colab": {},
    "colab_type": "code",
    "id": "H15D_icIiWYf"
   },
   "outputs": [],
   "source": [
    "# Calculate the percentage\n",
    "dynamic_profile = dynamic_profile.withColumn(\"activity\", F.col(\"activity\")/F.col('total_sum'))\\\n",
    "                                .withColumn(\"cash\", F.col(\"cash\")/F.col('total_sum'))\\\n",
    "                                .withColumn(\"event\", F.col(\"event\")/F.col('total_sum'))\\\n",
    "                                .withColumn(\"food\", F.col(\"food\")/F.col('total_sum'))\\\n",
    "                                .withColumn(\"illegal\", F.col(\"illegal\")/F.col('total_sum'))\\\n",
    "                                .withColumn(\"people\", F.col(\"people\")/F.col('total_sum'))\\\n",
    "                                .withColumn(\"transportation\", F.col(\"transportation\")/F.col('total_sum'))\\\n",
    "                                .withColumn(\"travel\", F.col(\"travel\")/F.col('total_sum'))\\\n",
    "                                .withColumn(\"utility\", F.col(\"utility\")/F.col('total_sum'))\n",
    "                        "
   ]
  },
  {
   "cell_type": "code",
   "execution_count": 0,
   "metadata": {
    "colab": {},
    "colab_type": "code",
    "id": "xdWr1cL8iWPz"
   },
   "outputs": [],
   "source": [
    "dynamic_profile.show()"
   ]
  },
  {
   "cell_type": "code",
   "execution_count": 0,
   "metadata": {
    "colab": {},
    "colab_type": "code",
    "id": "n12cYH5UijqW"
   },
   "outputs": [],
   "source": [
    "dynamic_profile_clean = dynamic_profile.drop(*dynamic_profile.columns[3:12])"
   ]
  },
  {
   "cell_type": "code",
   "execution_count": 0,
   "metadata": {
    "colab": {},
    "colab_type": "code",
    "id": "9KA1BWy2ijx4"
   },
   "outputs": [],
   "source": [
    "dynamic_profile_clean.show(5)"
   ]
  },
  {
   "cell_type": "code",
   "execution_count": 0,
   "metadata": {
    "colab": {},
    "colab_type": "code",
    "id": "D8cxkd27ldQh"
   },
   "outputs": [],
   "source": [
    "dynamic_profile_clean.createOrReplaceTempView(\"df4\")"
   ]
  },
  {
   "cell_type": "code",
   "execution_count": 0,
   "metadata": {
    "colab": {},
    "colab_type": "code",
    "id": "7sSZ0ago-wUD"
   },
   "outputs": [],
   "source": [
    "dynamic_profile_clean.createOrReplaceTempView(\"dynamic_profile_clean\")"
   ]
  },
  {
   "cell_type": "markdown",
   "metadata": {
    "colab_type": "text",
    "id": "_87QRxtulWk7"
   },
   "source": [
    "## Plotting spending profile of the average user"
   ]
  },
  {
   "cell_type": "code",
   "execution_count": 0,
   "metadata": {
    "colab": {},
    "colab_type": "code",
    "id": "OaLfHBjBij51"
   },
   "outputs": [],
   "source": [
    "# Save and read the csv to save time\n",
    "# Don't run it if you have the csv \n",
    "dynamic_profile_clean.toPandas().to_csv('dynamic_profile_clean.csv')"
   ]
  },
  {
   "cell_type": "code",
   "execution_count": 285,
   "metadata": {
    "colab": {},
    "colab_type": "code",
    "id": "4vkS4pH0ij8f"
   },
   "outputs": [],
   "source": [
    "dynamic_profile_clean = spark\\\n",
    "            .read\\\n",
    "            .option('header','True')\\\n",
    "            .option('inferSchema','true')\\\n",
    "            .csv(r'dynamic_profile_clean.csv')"
   ]
  },
  {
   "cell_type": "code",
   "execution_count": 286,
   "metadata": {
    "colab": {},
    "colab_type": "code",
    "id": "KKywZyRJij3a"
   },
   "outputs": [],
   "source": [
    "dynamic_profile_clean.createOrReplaceTempView(\"dynamic_profile_clean\")"
   ]
  },
  {
   "cell_type": "code",
   "execution_count": 287,
   "metadata": {
    "colab": {},
    "colab_type": "code",
    "id": "B1HzDYIZi531"
   },
   "outputs": [],
   "source": [
    "def get_mean_std(cate):\n",
    "    dynamic_profile_gt0 = dynamic_profile_clean.where(cate + ' > 0.0')\n",
    "    dynamic_profile_mean_std = dynamic_profile_gt0.groupBy('month').agg(F.avg(col(cate)).alias('avg'),\\\n",
    "    F.stddev(col(cate)).alias('std')).sort(col(\"month\").asc())\n",
    "    return dynamic_profile_mean_std                                                                                                                                                                                                                             "
   ]
  },
  {
   "cell_type": "code",
   "execution_count": 288,
   "metadata": {
    "colab": {},
    "colab_type": "code",
    "id": "upHozOAsi57v"
   },
   "outputs": [],
   "source": [
    "cate_list = dynamic_profile_clean.columns[6:15]"
   ]
  },
  {
   "cell_type": "code",
   "execution_count": 289,
   "metadata": {
    "colab": {},
    "colab_type": "code",
    "id": "BV-TzsWGi5_B"
   },
   "outputs": [],
   "source": [
    "def plot_mean_std(df,cate):    \n",
    "    plt.plot(df[\"month\"], df[\"avg\"])\n",
    "    plt.fill_between(df[\"month\"], (df[\"avg\"]-2*df[\"std\"]), (df[\"avg\"]+2*df[\"std\"]), color='b', alpha=.1)\n",
    "    plt.title('Average spending profile for ' + cate)\n",
    "    plt.xlabel(\"month\")\n",
    "    plt.ylabel(\"Average Percentage\")\n",
    "    plt.xticks(np.arange(0, 13, step = 1))"
   ]
  },
  {
   "cell_type": "code",
   "execution_count": 293,
   "metadata": {
    "colab": {
     "base_uri": "https://localhost:8080/",
     "height": 1000
    },
    "colab_type": "code",
    "id": "dFrLRQpPjDKC",
    "outputId": "a76d9e28-0267-40c8-889b-c53c09f4ae53"
   },
   "outputs": [
    {
     "data": {
      "image/png": "[encoded data removed]",
      "text/plain": [
       "<Figure size 1080x2160 with 8 Axes>"
      ]
     },
     "metadata": {
      "needs_background": "light"
     },
     "output_type": "display_data"
    }
   ],
   "source": [
    "fig, ax = plt.subplots(figsize = (15,30))\n",
    "for (i, cate) in zip(range(len(cate_list)), cate_list):\n",
    "    profile_mean_std = get_mean_std(cate)\n",
    "    df = profile_mean_std.toPandas()\n",
    "    plt.subplot(5,2,i+1)\n",
    "    plot_mean_std(df, cate)"
   ]
  },
  {
   "cell_type": "markdown",
   "metadata": {
    "colab_type": "text",
    "id": "ywyYEtvVLhtR"
   },
   "source": [
    "# Social Network Analytics"
   ]
  },
  {
   "cell_type": "markdown",
   "metadata": {
    "colab_type": "text",
    "id": "ty7R2CZvLhzK"
   },
   "source": [
    "## [5 pts]: Write a script to find a user’s friends and friends of friends (Friend definition: \n",
    "\n",
    "A user’s friend is someone who has transacted with the user, either sending money to the user or\n",
    "receiving money from the user). __Describe your algorithm and calculate its computational\n",
    "complexity. Can you do it better?__"
   ]
  },
  {
   "cell_type": "code",
   "execution_count": 294,
   "metadata": {
    "colab": {},
    "colab_type": "code",
    "id": "if7Zpd2NL8H9"
   },
   "outputs": [],
   "source": [
    "friend_to = transaction.orderBy('user1', 'user2')"
   ]
  },
  {
   "cell_type": "code",
   "execution_count": 295,
   "metadata": {
    "colab": {},
    "colab_type": "code",
    "id": "xReAVFzPMA7H"
   },
   "outputs": [],
   "source": [
    "def rename_columns(df, columns):\n",
    "    '''\n",
    "    This function is used to rename multiple columns in pyspark columns\n",
    "    ARG:\n",
    "    - df: a pysaprk dataframe\n",
    "    - columns: a dict that stores {'replace_column': new_name}\n",
    "    '''\n",
    "    \n",
    "    if isinstance(columns, dict):\n",
    "        for old_name, new_name in columns.items():\n",
    "            df = df.withColumnRenamed(old_name, new_name)\n",
    "        return df\n",
    "    else:\n",
    "        raise ValueError(\"'columns' should be a dict, like {'old_name_1':'new_name_1', 'old_name_2':'new_name_2'}\")"
   ]
  },
  {
   "cell_type": "code",
   "execution_count": 296,
   "metadata": {
    "colab": {},
    "colab_type": "code",
    "id": "H2G4BrbYMBkc"
   },
   "outputs": [],
   "source": [
    "# friend_from\n",
    "friend_from = transaction.select('user2', 'user1', 'transaction_type', 'datetime', 'description', 'is_business', 'story_id')\\\n",
    "    .orderBy('user2', 'user1')\n",
    "friend_from1 = rename_columns(friend_from, {'user1': 'user3', 'user2': 'user1', 'user3': 'user2'})\n",
    "friend_from2 = friend_from1.withColumn('transaction_type',\n",
    "    F.when(friend_from1['transaction_type'] == 'charge', 'payment').\n",
    "    otherwise('charge'))"
   ]
  },
  {
   "cell_type": "code",
   "execution_count": 297,
   "metadata": {
    "colab": {},
    "colab_type": "code",
    "id": "vNDJDcePMJXM"
   },
   "outputs": [],
   "source": [
    "# friend_all unions friend_to and friend_from, which allows every transaction to appear twice in the dataframe\n",
    "# With both users appear at 'user1' column \n",
    "friend_all = friend_to.union(friend_from2)"
   ]
  },
  {
   "cell_type": "markdown",
   "metadata": {
    "colab_type": "text",
    "id": "GlK76CNNL481"
   },
   "source": [
    "Keep only user_id in the friend_user dataframes for computation convenience"
   ]
  },
  {
   "cell_type": "code",
   "execution_count": 298,
   "metadata": {
    "colab": {},
    "colab_type": "code",
    "id": "BLq7-Aa8MY5M"
   },
   "outputs": [],
   "source": [
    "friend_user = friend_all.select('user1', 'user2').orderBy('user1', 'user2')\n",
    "friend_user1 = friend_user.alias('friend_user1')\n",
    "friend_user2 = friend_user.alias('friend_user2')\n",
    "friend_user2 = rename_columns(friend_user2, {'user2': 'friend_of_user2'})"
   ]
  },
  {
   "cell_type": "markdown",
   "metadata": {
    "colab_type": "text",
    "id": "QfWuUEO5Lhw9"
   },
   "source": [
    "We considered using _cond = [f.col(\"friend_user1.user2\") == f.col(\"friend_user2.user1\"), f.col(\"friend_user1.user1\") != f.col(\"friend_of_user2\")]_ to specify that the friend's friends do not contain the user him/herself. However, excluding the user in the friend's friends list won't bring huge effects to the result, and would complicate the algorithm much more, and the effect. So we dicided to keep the original user."
   ]
  },
  {
   "cell_type": "code",
   "execution_count": 299,
   "metadata": {
    "colab": {},
    "colab_type": "code",
    "id": "cx4ef-N5L4LS"
   },
   "outputs": [],
   "source": [
    "# add constraints to join the friends' friends to the table containing user id and his/her friends\n",
    "\n",
    "cond = [F.col(\"friend_user1.user2\") == F.col(\"friend_user2.user1\")]\n",
    "friend_friend = friend_user1.join(friend_user2, cond, \"inner\")\\\n",
    "    .drop(F.col(\"friend_user2.user1\"))\n",
    "friend_friend = friend_friend.orderBy('friend_user1.user1', 'user2', 'friend_of_user2')"
   ]
  },
  {
   "cell_type": "code",
   "execution_count": 300,
   "metadata": {
    "colab": {},
    "colab_type": "code",
    "id": "WTxJezaHMn8e"
   },
   "outputs": [],
   "source": [
    "friend_friend_clean = friend_friend.dropDuplicates()"
   ]
  },
  {
   "cell_type": "code",
   "execution_count": 302,
   "metadata": {
    "colab": {},
    "colab_type": "code",
    "id": "l1W_BzDRMq8b"
   },
   "outputs": [],
   "source": [
    "friend_friend_clean.show(10)"
   ]
  },
  {
   "cell_type": "markdown",
   "metadata": {
    "colab_type": "text",
    "id": "_N8mPOMJMv9R"
   },
   "source": [
    "![image.png](data:image/png;base64,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)"
   ]
  },
  {
   "cell_type": "code",
   "execution_count": 303,
   "metadata": {
    "colab": {},
    "colab_type": "code",
    "id": "Y2XZax5XMrX0"
   },
   "outputs": [],
   "source": [
    "def find_user_friend(user_id):\n",
    "    return friend_all.filter(friend_friend.user1 == user_id).dropDuplicates().select('user1', 'user2')"
   ]
  },
  {
   "cell_type": "code",
   "execution_count": 304,
   "metadata": {
    "colab": {},
    "colab_type": "code",
    "id": "ooc7jGmsMzXr"
   },
   "outputs": [],
   "source": [
    "find_user_friend(2).show()"
   ]
  },
  {
   "cell_type": "markdown",
   "metadata": {
    "colab_type": "text",
    "id": "OY0_XJhLM00N"
   },
   "source": [
    "![image.png](data:image/png;base64,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)"
   ]
  },
  {
   "cell_type": "code",
   "execution_count": 305,
   "metadata": {
    "colab": {},
    "colab_type": "code",
    "id": "IRZvNR08M3wU"
   },
   "outputs": [],
   "source": [
    "def find_user_friend_and_fof(user_id):\n",
    "    return friend_friend_clean.filter(friend_friend.user1 == user_id).select('user1', 'user2', 'friend_of_user2')"
   ]
  },
  {
   "cell_type": "code",
   "execution_count": 306,
   "metadata": {
    "colab": {},
    "colab_type": "code",
    "id": "nlGSRaxMM34j"
   },
   "outputs": [],
   "source": [
    "find_user_friend_and_fof(2).show()"
   ]
  },
  {
   "cell_type": "markdown",
   "metadata": {
    "colab_type": "text",
    "id": "ILaLRxJ3M0q0"
   },
   "source": [
    "![image.png](data:image/png;base64,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)"
   ]
  },
  {
   "cell_type": "markdown",
   "metadata": {
    "colab_type": "text",
    "id": "5aQV1KTMLhrG"
   },
   "source": [
    "### Number of friends and number of friends of friends"
   ]
  },
  {
   "cell_type": "code",
   "execution_count": 307,
   "metadata": {
    "colab": {},
    "colab_type": "code",
    "id": "dfYdqDscND-X"
   },
   "outputs": [],
   "source": [
    "# Calculate the number of days passed wince the user's first transaction\n",
    "assign_month = F.udf(lambda x: 0 if (x == 0) else math.ceil(x/30))"
   ]
  },
  {
   "cell_type": "code",
   "execution_count": 308,
   "metadata": {
    "colab": {},
    "colab_type": "code",
    "id": "dQCo_68GNEJM"
   },
   "outputs": [],
   "source": [
    "# assign the 'month' to user1 and user2\n",
    "\n",
    "window_user1 = Window.partitionBy('user1')\n",
    "friend_all_daysPassed = friend_all.withColumn(\"daysPassed\", F.datediff(\"datetime\", F.min(\"datetime\").over(window_user1)))\n",
    "category_with_user1month = friend_all_daysPassed.withColumn('month', assign_month(F.col('daysPassed')))\n",
    "category_with_user1month = category_with_user1month.withColumn(\"month\", category_with_user1month[\"month\"].cast(IntegerType()))\n",
    "\n",
    "window_user2 = Window.partitionBy('user2')\n",
    "category_with_user2month = category_with_user1month.withColumn(\"daysPassed2\", F.datediff(\"datetime\", F.min(\"datetime\").over(window_user2)))\n",
    "category_with_month = category_with_user2month.withColumn('month2', assign_month(F.col('daysPassed2')))\n",
    "category_with_month = category_with_month.withColumn(\"month2\", category_with_month[\"month2\"].cast(IntegerType()))\n",
    "\n",
    "category_with_month.createOrReplaceTempView(\"category_with_month\")"
   ]
  },
  {
   "cell_type": "markdown",
   "metadata": {
    "colab_type": "text",
    "id": "np7mW5BpNS3i"
   },
   "source": [
    "Calculate the number of friends"
   ]
  },
  {
   "cell_type": "code",
   "execution_count": 309,
   "metadata": {
    "colab": {},
    "colab_type": "code",
    "id": "SqEjsjOtNESp"
   },
   "outputs": [],
   "source": [
    "friend_num = spark.sql(\"\"\"SELECT user1, month, COUNT(DISTINCT user2) AS FRIEND_NUM\n",
    "                        FROM category_with_month t1 \n",
    "                        WHERE month <= 12\n",
    "                        GROUP BY user1, month\n",
    "                        ORDER BY user1, month\"\"\")\n",
    "friend_num.createOrReplaceTempView(\"friend_num\")"
   ]
  },
  {
   "cell_type": "markdown",
   "metadata": {
    "colab_type": "text",
    "id": "MZorg-NpNadK"
   },
   "source": [
    "Calculate the number of friends' friends"
   ]
  },
  {
   "cell_type": "code",
   "execution_count": 310,
   "metadata": {
    "colab": {},
    "colab_type": "code",
    "id": "K0NwtXPfNXbM"
   },
   "outputs": [],
   "source": [
    "# attach the number of friends' of user2 to the huge transaction table\n",
    "\n",
    "category_with_month_wfof = spark.sql(\"\"\"SELECT t1.*, t2.friend_num\n",
    "                        FROM category_with_month t1\n",
    "                            INNER JOIN friend_num t2 \n",
    "                                ON t1.user2 = t2.user1\n",
    "                                AND t1.month2 = t2.month\n",
    "                        ORDER BY user1, user2\"\"\")\n",
    "category_with_month_wfof.createOrReplaceTempView(\"category_with_month_wfof\")"
   ]
  },
  {
   "cell_type": "code",
   "execution_count": 311,
   "metadata": {
    "colab": {},
    "colab_type": "code",
    "id": "jjMugTJZNrSa"
   },
   "outputs": [],
   "source": [
    "# With user1 and month1 specified, Select only distinct user2 (user1's friends) \n",
    "\n",
    "fof_num_tmp = spark.sql(\"\"\"SELECT DISTINCT user1, month, user2, friend_num\n",
    "                            FROM category_with_month_wfof\n",
    "                            WHERE month <= 12\n",
    "                            ORDER BY user1, month\"\"\")\n",
    "fof_num_tmp.createOrReplaceTempView(\"fof_num_tmp\")"
   ]
  },
  {
   "cell_type": "code",
   "execution_count": 312,
   "metadata": {
    "colab": {},
    "colab_type": "code",
    "id": "PlYO_VqpNrxD"
   },
   "outputs": [],
   "source": [
    "# join the result\n",
    "\n",
    "fof_num = spark.sql(\"\"\"SELECT t1.user1, t1.month, IFNULL(SUM(t2.friend_num), 0) AS fof_num\n",
    "                        FROM friend_num t1\n",
    "                            LEFT JOIN fof_num_tmp t2\n",
    "                            ON t1.user1 = t2.user1\n",
    "                            AND t1.month = t2.month\n",
    "                        WHERE t1.month <= 12\n",
    "                        GROUP BY t1.user1, t1.month\n",
    "                        ORDER BY t1.user1, t1.month\"\"\")\n",
    "fof_num.createOrReplaceTempView(\"fof_num\")"
   ]
  },
  {
   "cell_type": "markdown",
   "metadata": {
    "colab_type": "text",
    "id": "9Ok2dj9hNwP9"
   },
   "source": [
    "Combine the number of friends and friends' friends"
   ]
  },
  {
   "cell_type": "code",
   "execution_count": 313,
   "metadata": {
    "colab": {},
    "colab_type": "code",
    "id": "zj5LsDdXNvSm"
   },
   "outputs": [],
   "source": [
    "user_f_fof_num = spark.sql(\"\"\"SELECT t1.user1, t1.month, t1.friend_num, t2.fof_num\n",
    "                        FROM friend_num t1 \n",
    "                            LEFT JOIN fof_num t2\n",
    "                            ON t1.user1 = t2.user1\n",
    "                            AND t1.month = t2.month\n",
    "                        WHERE t1.month <= 12\n",
    "                        ORDER BY t1.user1, t1.month\"\"\")\n",
    "user_f_fof_num.createOrReplaceTempView(\"user_f_fof_num\")"
   ]
  },
  {
   "cell_type": "code",
   "execution_count": 314,
   "metadata": {
    "colab": {},
    "colab_type": "code",
    "id": "qxz8DQ7KN1y7"
   },
   "outputs": [],
   "source": [
    "# store the results to parquet form\n",
    "user_f_fof_num.write.parquet('user_f_fof_num.parquet')"
   ]
  },
  {
   "cell_type": "markdown",
   "metadata": {
    "colab_type": "text",
    "id": "XkK59_rrOl6Q"
   },
   "source": [
    "### Clustering coefficient of a user's network."
   ]
  },
  {
   "cell_type": "code",
   "execution_count": 315,
   "metadata": {
    "colab": {},
    "colab_type": "code",
    "id": "PKecOodXOpz7"
   },
   "outputs": [],
   "source": [
    "# Calculate possible triplets\n",
    "\n",
    "possible_tri = spark.sql(\"\"\"\n",
    "                        SELECT t1.user1, t1.month, \n",
    "                            CASE \n",
    "                                WHEN t1.friend_num <= 1 THEN 0 \n",
    "                                ELSE INT(t1.friend_num * (t1.friend_num -1)/2)\n",
    "                                END AS possible_tri \n",
    "                        FROM friend_num t1\n",
    "                        WHERE t1.month <= 12\n",
    "                        ORDER BY t1.user1, t1.month\"\"\")\n",
    "possible_tri.createOrReplaceTempView(\"possible_tri\")"
   ]
  },
  {
   "cell_type": "code",
   "execution_count": 316,
   "metadata": {
    "colab": {},
    "colab_type": "code",
    "id": "Mj7o1Qk-Pg9D"
   },
   "outputs": [],
   "source": [
    "# Calculate existed triplets\n",
    "\n",
    "existed_tri = spark.sql(\"\"\"\n",
    "                        SELECT t1.user1, t1.month, IFNULL(COUNT(DISTINCT *), 0) AS existed_tri\n",
    "                        FROM category_with_month t1\n",
    "                            INNER JOIN category_with_month t2\n",
    "                                ON t1.month <= 12\n",
    "                                AND t1.user2 = t2.user1\n",
    "                            LEFT JOIN (SELECT DISTINCT t02.user1, t02.month, t02.user2\n",
    "                                        FROM category_with_month t02\n",
    "                                        WHERE t02.month <= 12\n",
    "                                        ) t02\n",
    "                                ON t02.user2 = t2.user2\n",
    "                                AND t02.user1 = t1.user1\n",
    "                                AND t02.month = t1.month\n",
    "                        GROUP BY t1.user1, t1.month\n",
    "                        ORDER BY t1.user1, t1.month\"\"\")\n",
    "existed_tri.createOrReplaceTempView(\"existed_tri\")"
   ]
  },
  {
   "cell_type": "code",
   "execution_count": 317,
   "metadata": {
    "colab": {},
    "colab_type": "code",
    "id": "2AIqTNTBPmQH"
   },
   "outputs": [],
   "source": [
    "# Calculate clustering coefficients\n",
    "\n",
    "cluster_coef = spark.sql(\"\"\"\n",
    "                        SELECT t1.user1, t1.month, IFNULL(existed_tri/possible_tri, 0) AS exicluster_coef\n",
    "                        FROM possible_tri t2\n",
    "                            LEFT JOIN existed_tri t1\n",
    "                            ON t1.user1 = t2.user1\n",
    "                            AND t1.month = t2.month\n",
    "                        ORDER BY t1.user1, t1.month\"\"\")\n",
    "cluster_coef.createOrReplaceTempView(\"cluster_coef\")"
   ]
  },
  {
   "cell_type": "code",
   "execution_count": 318,
   "metadata": {
    "colab": {},
    "colab_type": "code",
    "id": "A-dio1LcPrMW"
   },
   "outputs": [],
   "source": [
    "cluster_coef.show(5)"
   ]
  },
  {
   "cell_type": "markdown",
   "metadata": {
    "colab_type": "text",
    "id": "DL3FU2SOOmAz"
   },
   "source": [
    "![image.png](data:image/png;base64,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)"
   ]
  },
  {
   "cell_type": "markdown",
   "metadata": {
    "colab_type": "text",
    "id": "j6rocF2JPyKt"
   },
   "source": [
    "Save the results from network analytics"
   ]
  },
  {
   "cell_type": "code",
   "execution_count": 319,
   "metadata": {
    "colab": {},
    "colab_type": "code",
    "id": "l02Dwn96PxGu"
   },
   "outputs": [],
   "source": [
    "network_analytic = spark.sql(\"\"\"\n",
    "                        SELECT t1.*, IFNULL(t2.exicluster_coef, 0)AS cluster_coef\n",
    "                        FROM user_f_fof_num t1\n",
    "                            LEFT JOIN cluster_coef t2\n",
    "                            ON t1.user1 = t2.user1\n",
    "                            AND t1.month = t2.month\n",
    "                        ORDER BY t1.user1, t1.month\"\"\")\n",
    "network_analytic.createOrReplaceTempView(\"network_analytic\")"
   ]
  },
  {
   "cell_type": "code",
   "execution_count": 320,
   "metadata": {
    "colab": {},
    "colab_type": "code",
    "id": "X72rUXPCQlFa"
   },
   "outputs": [],
   "source": [
    "network_analytic.write.parquet('network_analytic.parquet')"
   ]
  },
  {
   "cell_type": "markdown",
   "metadata": {
    "colab_type": "text",
    "id": "t0RsIxGaQoos"
   },
   "source": [
    "### Calculate the page rank of each user\n",
    "\n",
    "_It's a dumb way to calculate the page rank, and probably would take forever to generate the results. But before I think of something smart, I'll leave them here._"
   ]
  },
  {
   "cell_type": "code",
   "execution_count": 321,
   "metadata": {
    "colab": {},
    "colab_type": "code",
    "id": "0Dd3NOQrQ6oM"
   },
   "outputs": [],
   "source": [
    "category_with_month_lt12_payment = category_with_month.filter(category_with_month.month <= 12).select('user1', 'month', 'user2', 'month2', 'transaction_type').orderBy('user1', 'month')\n",
    "category_with_month_lt12_payment = category_with_month_lt12_payment.filter(category_with_month_lt12_payment.transaction_type == 'payment')"
   ]
  },
  {
   "cell_type": "code",
   "execution_count": 322,
   "metadata": {
    "colab": {},
    "colab_type": "code",
    "id": "W8qSOBseREPW"
   },
   "outputs": [],
   "source": [
    "user_month = category_with_month_lt12_payment.select\\\n",
    "                    (F.concat(F.col(\"user1\"), F.lit(\"_\"), F.col(\"month\")),\\\n",
    "                     F.concat(F.col(\"user2\"), F.lit(\"_\"), F.col(\"month2\")),\\\n",
    "                     category_with_month_lt12_payment.transaction_type)\n",
    "user_month = user_month.withColumnRenamed('concat(user1, _, month)', 'user1_month')\n",
    "user_month = user_month.withColumnRenamed('concat(user2, _, month2)', 'user2_month')"
   ]
  },
  {
   "cell_type": "code",
   "execution_count": 323,
   "metadata": {
    "colab": {},
    "colab_type": "code",
    "id": "uhQ_8xxpRG22"
   },
   "outputs": [],
   "source": [
    "user_month_edge = user_month.withColumnRenamed('user1_month', 'src')\n",
    "user_month_edge = user_month_edge.withColumnRenamed('user2_month', 'dst')\n",
    "user_month_edge = user_month_edge.withColumnRenamed('transaction_type', 'relationship')"
   ]
  },
  {
   "cell_type": "code",
   "execution_count": 324,
   "metadata": {
    "colab": {},
    "colab_type": "code",
    "id": "sdJkcBTARIFO"
   },
   "outputs": [],
   "source": [
    "verticesDf = user_month.select('user1_month').union(user_month.select('user2_month'))\n",
    "verticesDf = verticesDf.withColumnRenamed('user1_month', 'id')"
   ]
  },
  {
   "cell_type": "code",
   "execution_count": 325,
   "metadata": {
    "colab": {},
    "colab_type": "code",
    "id": "7oRA55NrRKD2"
   },
   "outputs": [],
   "source": [
    "g = GraphFrame(verticesDf, user_month_edge)\n",
    "pr = g.pageRank(resetProbability=0.15, tol=0.01)"
   ]
  },
  {
   "cell_type": "markdown",
   "metadata": {
    "colab_type": "text",
    "id": "EPwBESADkhzA"
   },
   "source": [
    "## Predictive Analysis with MLlib"
   ]
  },
  {
   "cell_type": "markdown",
   "metadata": {
    "colab_type": "text",
    "id": "hqtbhqWz6D9u"
   },
   "source": [
    "### Q7. Compute total number of transactions within 12 months for each user"
   ]
  },
  {
   "cell_type": "code",
   "execution_count": 31,
   "metadata": {
    "colab": {},
    "colab_type": "code",
    "id": "6wn95HwVmV0Z"
   },
   "outputs": [],
   "source": [
    "from pyspark.sql.functions import *\n",
    "from pyspark.sql.types import *"
   ]
  },
  {
   "cell_type": "code",
   "execution_count": 32,
   "metadata": {
    "colab": {},
    "colab_type": "code",
    "id": "2BRUOsNtpWLp"
   },
   "outputs": [],
   "source": [
    "# create table containing 'user' and the number of transactions within 12 months\n",
    "transaction.createOrReplaceTempView(\"transaction2\")\n",
    "df1 = spark.sql(\"select user1 as user, datetime from transaction2 union all select user2 as user, datetime from transaction2\")\n",
    "\n",
    "df1.createOrReplaceTempView(\"df1\")\n",
    "df2 = spark.sql(\"select user, datetime, min(datetime) over (partition by user order by user, datetime) as first_time_transaction from df1\")\n",
    "\n",
    "df2.createOrReplaceTempView(\"df2\")\n",
    "df3 = spark.sql(\"select user, date_format(first_time_transaction,'Y/M/d') as first_time_transaction,date_format(datetime,'Y/M/d') as datetime from df2\")\n",
    "\n",
    "df3.createOrReplaceTempView(\"df3\")\n",
    "df4 = spark.sql(\"select * from (select user, months_between(datetime, first_time_transaction) as months_after_first_transaction from df2) t where t.months_after_first_transaction < 12\")\n",
    "\n",
    "df4.createOrReplaceTempView(\"df4\")\n",
    "df5 = spark.sql(\"select user, count(*) as number_of_transactions_within_12_months from df4 group by user\")\n",
    "\n",
    "df5.createOrReplaceTempView(\"df5\")"
   ]
  },
  {
   "cell_type": "code",
   "execution_count": 93,
   "metadata": {},
   "outputs": [
    {
     "name": "stdout",
     "output_type": "stream",
     "text": [
      "+----+---------------------------------------+\n",
      "|user|number_of_transactions_within_12_months|\n",
      "+----+---------------------------------------+\n",
      "|2866|                                      1|\n",
      "|3918|                                      2|\n",
      "|4935|                                      1|\n",
      "|5300|                                      4|\n",
      "|6620|                                      1|\n",
      "+----+---------------------------------------+\n",
      "only showing top 5 rows\n",
      "\n"
     ]
    }
   ],
   "source": [
    "df5.show(5)"
   ]
  },
  {
   "cell_type": "markdown",
   "metadata": {
    "colab_type": "text",
    "id": "465PXHRS6tC-"
   },
   "source": [
    "### Q8. Create the Recency and Frequency variables"
   ]
  },
  {
   "cell_type": "code",
   "execution_count": 344,
   "metadata": {},
   "outputs": [],
   "source": [
    "from pyspark.sql.window import Window\n",
    "import pyspark.sql.functions as F\n",
    "import math\n",
    "\n",
    "window = Window.partitionBy('User')\n",
    "\n",
    "trans_with_daysPassed = df1.withColumn(\"daysPassed\", F.datediff(\"dateTime\", F.min(\"dateTime\").over(window)))\n",
    "\n",
    "assign_month = F.udf(lambda x: 0 if (x == 0) else math.ceil(x/30))\n",
    "\n",
    "category_with_month = trans_with_daysPassed.withColumn('month', assign_month(F.col('daysPassed')))\n",
    "category_with_month = category_with_month.withColumn(\"month\", category_with_month[\"month\"].cast(IntegerType()))"
   ]
  },
  {
   "cell_type": "code",
   "execution_count": 345,
   "metadata": {},
   "outputs": [],
   "source": [
    "category_with_month.createOrReplaceTempView(\"category_with_month\")\n",
    "cate_month_12 = spark.sql(\"\"\"SELECT * FROM category_with_month WHERE month <= 12\"\"\")\n",
    "cate_month_12.createOrReplaceTempView(\"cate_month_12\")"
   ]
  },
  {
   "cell_type": "code",
   "execution_count": 346,
   "metadata": {
    "scrolled": false
   },
   "outputs": [
    {
     "name": "stdout",
     "output_type": "stream",
     "text": [
      "+-----+-------------------+----------+-----+\n",
      "| user|           datetime|daysPassed|month|\n",
      "+-----+-------------------+----------+-----+\n",
      "| 2866|2015-09-15 14:27:00|         0|    0|\n",
      "| 3918|2016-03-13 18:57:15|         0|    0|\n",
      "| 3918|2016-03-14 01:25:42|         1|    1|\n",
      "| 4935|2014-04-14 00:57:19|         0|    0|\n",
      "| 5300|2016-04-07 17:30:43|       112|    4|\n",
      "| 5300|2015-12-17 02:05:27|         0|    0|\n",
      "| 5300|2016-06-05 14:40:07|       171|    6|\n",
      "| 5300|2016-06-09 00:34:17|       175|    6|\n",
      "| 6620|2012-04-16 14:32:43|         0|    0|\n",
      "|20735|2014-06-17 14:54:30|         0|    0|\n",
      "+-----+-------------------+----------+-----+\n",
      "only showing top 10 rows\n",
      "\n"
     ]
    }
   ],
   "source": [
    "cate_month_12.show(10)"
   ]
  },
  {
   "cell_type": "code",
   "execution_count": 348,
   "metadata": {},
   "outputs": [],
   "source": [
    "# create lifetime table for all users containing t0 - t11\n",
    "lst = [0,1,2,3,4,5,6,7,8,9,10,11,12]\n",
    "df_time = df5.withColumn(\"time_lst\", F.array([F.lit(x) for x in lst]))\n",
    "df_time = df_time.withColumn(\"time_lst\", F.explode(col(\"time_lst\")))"
   ]
  },
  {
   "cell_type": "code",
   "execution_count": 349,
   "metadata": {},
   "outputs": [],
   "source": [
    "df_sum = spark.sql(\"select user, month as lifetime_indicator, count(*) as freq_times, \\\n",
    "                              max(daysPassed) as max_days \\\n",
    "                        from cate_month_12 \\\n",
    "                        group by user, month\")\n",
    "\n",
    "df_time.createOrReplaceTempView(\"df_time\")\n",
    "df_sum.createOrReplaceTempView(\"df_sum\")"
   ]
  },
  {
   "cell_type": "code",
   "execution_count": 350,
   "metadata": {},
   "outputs": [
    {
     "name": "stdout",
     "output_type": "stream",
     "text": [
      "+------+------------------+----------+--------+\n",
      "|  user|lifetime_indicator|freq_times|max_days|\n",
      "+------+------------------+----------+--------+\n",
      "| 59990|                 0|         1|       0|\n",
      "|124967|                 0|         1|       0|\n",
      "|171142|                 9|         1|     252|\n",
      "|178199|                 8|         1|     221|\n",
      "|187647|                 5|         1|     136|\n",
      "|196615|                 0|         1|       0|\n",
      "|215820|                 9|         3|     249|\n",
      "|216006|                 0|         1|       0|\n",
      "|243018|                 5|         1|     143|\n",
      "|260195|                 0|         1|       0|\n",
      "|275481|                 1|         1|       9|\n",
      "|281718|                10|         1|     282|\n",
      "|296738|                 2|         1|      39|\n",
      "|307982|                 0|         1|       0|\n",
      "|308930|                 1|         2|      13|\n",
      "|320508|                 0|         1|       0|\n",
      "|326538|                 0|         1|       0|\n",
      "|350569|                 9|         1|     258|\n",
      "|355477|                 0|         1|       0|\n",
      "|364187|                 0|         1|       0|\n",
      "+------+------------------+----------+--------+\n",
      "only showing top 20 rows\n",
      "\n"
     ]
    }
   ],
   "source": [
    "df_sum.show()"
   ]
  },
  {
   "cell_type": "code",
   "execution_count": 351,
   "metadata": {
    "scrolled": true
   },
   "outputs": [
    {
     "name": "stdout",
     "output_type": "stream",
     "text": [
      "+----+---------------------------------------+--------+\n",
      "|user|number_of_transactions_within_12_months|time_lst|\n",
      "+----+---------------------------------------+--------+\n",
      "|2866|                                      1|       0|\n",
      "|2866|                                      1|       1|\n",
      "|2866|                                      1|       2|\n",
      "|2866|                                      1|       3|\n",
      "|2866|                                      1|       4|\n",
      "|2866|                                      1|       5|\n",
      "|2866|                                      1|       6|\n",
      "|2866|                                      1|       7|\n",
      "|2866|                                      1|       8|\n",
      "|2866|                                      1|       9|\n",
      "|2866|                                      1|      10|\n",
      "|2866|                                      1|      11|\n",
      "|2866|                                      1|      12|\n",
      "|3918|                                      2|       0|\n",
      "|3918|                                      2|       1|\n",
      "|3918|                                      2|       2|\n",
      "|3918|                                      2|       3|\n",
      "|3918|                                      2|       4|\n",
      "|3918|                                      2|       5|\n",
      "|3918|                                      2|       6|\n",
      "+----+---------------------------------------+--------+\n",
      "only showing top 20 rows\n",
      "\n"
     ]
    }
   ],
   "source": [
    "df_time.show()"
   ]
  },
  {
   "cell_type": "code",
   "execution_count": 191,
   "metadata": {},
   "outputs": [
    {
     "name": "stdout",
     "output_type": "stream",
     "text": [
      "+----+------------------+--------+----------+\n",
      "|user|lifetime_indicator|max_days|freq_times|\n",
      "+----+------------------+--------+----------+\n",
      "|   2|                 0|       0|         1|\n",
      "|   2|                 1|    null|      null|\n",
      "|   2|                 2|    null|      null|\n",
      "|   2|                 3|    null|      null|\n",
      "|   2|                 4|    null|      null|\n",
      "|   2|                 5|    null|      null|\n",
      "|   2|                 6|    null|      null|\n",
      "|   2|                 7|    null|      null|\n",
      "|   2|                 8|    null|      null|\n",
      "|   2|                 9|    null|      null|\n",
      "|   2|                10|    null|      null|\n",
      "|   2|                11|    null|      null|\n",
      "|   3|                 0|       0|         1|\n",
      "|   3|                 1|      26|         1|\n",
      "|   3|                 2|    null|      null|\n",
      "|   3|                 3|      88|         1|\n",
      "|   3|                 4|     104|         5|\n",
      "|   3|                 5|     125|         1|\n",
      "|   3|                 6|    null|      null|\n",
      "|   3|                 7|    null|      null|\n",
      "+----+------------------+--------+----------+\n",
      "only showing top 20 rows\n",
      "\n"
     ]
    }
   ],
   "source": [
    "df_sum2 = spark.sql(\"select user, lifetime_indicator, max(max_days) as max_days, \\\n",
    "                        max(freq_times) as freq_times \\\n",
    "                  from \\\n",
    "                      (select user, lifetime_indicator, max_days, freq_times from df_sum \\\n",
    "                      union  \\\n",
    "                      select user, time_lst, null as max_days, null as freq_times \\\n",
    "                      from df_time) T \\\n",
    "                  group by user, lifetime_indicator \\\n",
    "                  order by user, lifetime_indicator \")\n",
    "\n",
    "df_sum2.createOrReplaceTempView(\"df_sum2\")\n",
    "df_sum2.show()"
   ]
  },
  {
   "cell_type": "code",
   "execution_count": 352,
   "metadata": {},
   "outputs": [
    {
     "ename": "AnalysisException",
     "evalue": "'Table or view not found: df_sum2; line 1 pos 358'",
     "output_type": "error",
     "traceback": [
      "\u001b[0;31m---------------------------------------------------------------------------\u001b[0m",
      "\u001b[0;31mPy4JJavaError\u001b[0m                             Traceback (most recent call last)",
      "\u001b[0;32m/usr/local/opt/apache-spark/libexec/python/pyspark/sql/utils.py\u001b[0m in \u001b[0;36mdeco\u001b[0;34m(*a, **kw)\u001b[0m\n\u001b[1;32m     62\u001b[0m         \u001b[0;32mtry\u001b[0m\u001b[0;34m:\u001b[0m\u001b[0;34m\u001b[0m\u001b[0;34m\u001b[0m\u001b[0m\n\u001b[0;32m---> 63\u001b[0;31m             \u001b[0;32mreturn\u001b[0m \u001b[0mf\u001b[0m\u001b[0;34m(\u001b[0m\u001b[0;34m*\u001b[0m\u001b[0ma\u001b[0m\u001b[0;34m,\u001b[0m \u001b[0;34m**\u001b[0m\u001b[0mkw\u001b[0m\u001b[0;34m)\u001b[0m\u001b[0;34m\u001b[0m\u001b[0;34m\u001b[0m\u001b[0m\n\u001b[0m\u001b[1;32m     64\u001b[0m         \u001b[0;32mexcept\u001b[0m \u001b[0mpy4j\u001b[0m\u001b[0;34m.\u001b[0m\u001b[0mprotocol\u001b[0m\u001b[0;34m.\u001b[0m\u001b[0mPy4JJavaError\u001b[0m \u001b[0;32mas\u001b[0m \u001b[0me\u001b[0m\u001b[0;34m:\u001b[0m\u001b[0;34m\u001b[0m\u001b[0;34m\u001b[0m\u001b[0m\n",
      "\u001b[0;32m/usr/local/opt/apache-spark/libexec/python/lib/py4j-0.10.7-src.zip/py4j/protocol.py\u001b[0m in \u001b[0;36mget_return_value\u001b[0;34m(answer, gateway_client, target_id, name)\u001b[0m\n\u001b[1;32m    327\u001b[0m                     \u001b[0;34m\"An error occurred while calling {0}{1}{2}.\\n\"\u001b[0m\u001b[0;34m.\u001b[0m\u001b[0;34m\u001b[0m\u001b[0;34m\u001b[0m\u001b[0m\n\u001b[0;32m--> 328\u001b[0;31m                     format(target_id, \".\", name), value)\n\u001b[0m\u001b[1;32m    329\u001b[0m             \u001b[0;32melse\u001b[0m\u001b[0;34m:\u001b[0m\u001b[0;34m\u001b[0m\u001b[0;34m\u001b[0m\u001b[0m\n",
      "\u001b[0;31mPy4JJavaError\u001b[0m: An error occurred while calling o29.sql.\n: org.apache.spark.sql.AnalysisException: Table or view not found: df_sum2; line 1 pos 358\n\tat org.apache.spark.sql.catalyst.analysis.package$AnalysisErrorAt.failAnalysis(package.scala:47)\n\tat org.apache.spark.sql.catalyst.analysis.Analyzer$ResolveRelations$.org$apache$spark$sql$catalyst$analysis$Analyzer$ResolveRelations$$lookupTableFromCatalog(Analyzer.scala:731)\n\tat org.apache.spark.sql.catalyst.analysis.Analyzer$ResolveRelations$.resolveRelation(Analyzer.scala:683)\n\tat org.apache.spark.sql.catalyst.analysis.Analyzer$ResolveRelations$$anonfun$apply$8.applyOrElse(Analyzer.scala:713)\n\tat org.apache.spark.sql.catalyst.analysis.Analyzer$ResolveRelations$$anonfun$apply$8.applyOrElse(Analyzer.scala:706)\n\tat org.apache.spark.sql.catalyst.plans.logical.AnalysisHelper$$anonfun$resolveOperatorsUp$1$$anonfun$apply$1.apply(AnalysisHelper.scala:90)\n\tat org.apache.spark.sql.catalyst.plans.logical.AnalysisHelper$$anonfun$resolveOperatorsUp$1$$anonfun$apply$1.apply(AnalysisHelper.scala:90)\n\tat org.apache.spark.sql.catalyst.trees.CurrentOrigin$.withOrigin(TreeNode.scala:69)\n\tat org.apache.spark.sql.catalyst.plans.logical.AnalysisHelper$$anonfun$resolveOperatorsUp$1.apply(AnalysisHelper.scala:89)\n\tat org.apache.spark.sql.catalyst.plans.logical.AnalysisHelper$$anonfun$resolveOperatorsUp$1.apply(AnalysisHelper.scala:86)\n\tat org.apache.spark.sql.catalyst.plans.logical.AnalysisHelper$.allowInvokingTransformsInAnalyzer(AnalysisHelper.scala:194)\n\tat org.apache.spark.sql.catalyst.plans.logical.AnalysisHelper$class.resolveOperatorsUp(AnalysisHelper.scala:86)\n\tat org.apache.spark.sql.catalyst.plans.logical.LogicalPlan.resolveOperatorsUp(LogicalPlan.scala:29)\n\tat org.apache.spark.sql.catalyst.plans.logical.AnalysisHelper$$anonfun$resolveOperatorsUp$1$$anonfun$1.apply(AnalysisHelper.scala:87)\n\tat org.apache.spark.sql.catalyst.plans.logical.AnalysisHelper$$anonfun$resolveOperatorsUp$1$$anonfun$1.apply(AnalysisHelper.scala:87)\n\tat org.apache.spark.sql.catalyst.trees.TreeNode$$anonfun$4.apply(TreeNode.scala:328)\n\tat org.apache.spark.sql.catalyst.trees.TreeNode.mapProductIterator(TreeNode.scala:186)\n\tat org.apache.spark.sql.catalyst.trees.TreeNode.mapChildren(TreeNode.scala:326)\n\tat org.apache.spark.sql.catalyst.plans.logical.AnalysisHelper$$anonfun$resolveOperatorsUp$1.apply(AnalysisHelper.scala:87)\n\tat org.apache.spark.sql.catalyst.plans.logical.AnalysisHelper$$anonfun$resolveOperatorsUp$1.apply(AnalysisHelper.scala:86)\n\tat org.apache.spark.sql.catalyst.plans.logical.AnalysisHelper$.allowInvokingTransformsInAnalyzer(AnalysisHelper.scala:194)\n\tat org.apache.spark.sql.catalyst.plans.logical.AnalysisHelper$class.resolveOperatorsUp(AnalysisHelper.scala:86)\n\tat org.apache.spark.sql.catalyst.plans.logical.LogicalPlan.resolveOperatorsUp(LogicalPlan.scala:29)\n\tat org.apache.spark.sql.catalyst.plans.logical.AnalysisHelper$$anonfun$resolveOperatorsUp$1$$anonfun$1.apply(AnalysisHelper.scala:87)\n\tat org.apache.spark.sql.catalyst.plans.logical.AnalysisHelper$$anonfun$resolveOperatorsUp$1$$anonfun$1.apply(AnalysisHelper.scala:87)\n\tat org.apache.spark.sql.catalyst.trees.TreeNode$$anonfun$4.apply(TreeNode.scala:328)\n\tat org.apache.spark.sql.catalyst.trees.TreeNode.mapProductIterator(TreeNode.scala:186)\n\tat org.apache.spark.sql.catalyst.trees.TreeNode.mapChildren(TreeNode.scala:326)\n\tat org.apache.spark.sql.catalyst.plans.logical.AnalysisHelper$$anonfun$resolveOperatorsUp$1.apply(AnalysisHelper.scala:87)\n\tat org.apache.spark.sql.catalyst.plans.logical.AnalysisHelper$$anonfun$resolveOperatorsUp$1.apply(AnalysisHelper.scala:86)\n\tat org.apache.spark.sql.catalyst.plans.logical.AnalysisHelper$.allowInvokingTransformsInAnalyzer(AnalysisHelper.scala:194)\n\tat org.apache.spark.sql.catalyst.plans.logical.AnalysisHelper$class.resolveOperatorsUp(AnalysisHelper.scala:86)\n\tat org.apache.spark.sql.catalyst.plans.logical.LogicalPlan.resolveOperatorsUp(LogicalPlan.scala:29)\n\tat org.apache.spark.sql.catalyst.analysis.Analyzer$ResolveRelations$.apply(Analyzer.scala:706)\n\tat org.apache.spark.sql.catalyst.analysis.Analyzer$ResolveRelations$.apply(Analyzer.scala:652)\n\tat org.apache.spark.sql.catalyst.rules.RuleExecutor$$anonfun$execute$1$$anonfun$apply$1.apply(RuleExecutor.scala:87)\n\tat org.apache.spark.sql.catalyst.rules.RuleExecutor$$anonfun$execute$1$$anonfun$apply$1.apply(RuleExecutor.scala:84)\n\tat scala.collection.LinearSeqOptimized$class.foldLeft(LinearSeqOptimized.scala:124)\n\tat scala.collection.immutable.List.foldLeft(List.scala:84)\n\tat org.apache.spark.sql.catalyst.rules.RuleExecutor$$anonfun$execute$1.apply(RuleExecutor.scala:84)\n\tat org.apache.spark.sql.catalyst.rules.RuleExecutor$$anonfun$execute$1.apply(RuleExecutor.scala:76)\n\tat scala.collection.immutable.List.foreach(List.scala:392)\n\tat org.apache.spark.sql.catalyst.rules.RuleExecutor.execute(RuleExecutor.scala:76)\n\tat org.apache.spark.sql.catalyst.analysis.Analyzer.org$apache$spark$sql$catalyst$analysis$Analyzer$$executeSameContext(Analyzer.scala:127)\n\tat org.apache.spark.sql.catalyst.analysis.Analyzer.execute(Analyzer.scala:121)\n\tat org.apache.spark.sql.catalyst.analysis.Analyzer$$anonfun$executeAndCheck$1.apply(Analyzer.scala:106)\n\tat org.apache.spark.sql.catalyst.analysis.Analyzer$$anonfun$executeAndCheck$1.apply(Analyzer.scala:105)\n\tat org.apache.spark.sql.catalyst.plans.logical.AnalysisHelper$.markInAnalyzer(AnalysisHelper.scala:201)\n\tat org.apache.spark.sql.catalyst.analysis.Analyzer.executeAndCheck(Analyzer.scala:105)\n\tat org.apache.spark.sql.execution.QueryExecution.analyzed$lzycompute(QueryExecution.scala:58)\n\tat org.apache.spark.sql.execution.QueryExecution.analyzed(QueryExecution.scala:56)\n\tat org.apache.spark.sql.execution.QueryExecution.assertAnalyzed(QueryExecution.scala:48)\n\tat org.apache.spark.sql.Dataset$.ofRows(Dataset.scala:78)\n\tat org.apache.spark.sql.SparkSession.sql(SparkSession.scala:642)\n\tat sun.reflect.NativeMethodAccessorImpl.invoke0(Native Method)\n\tat sun.reflect.NativeMethodAccessorImpl.invoke(NativeMethodAccessorImpl.java:62)\n\tat sun.reflect.DelegatingMethodAccessorImpl.invoke(DelegatingMethodAccessorImpl.java:43)\n\tat java.lang.reflect.Method.invoke(Method.java:498)\n\tat py4j.reflection.MethodInvoker.invoke(MethodInvoker.java:244)\n\tat py4j.reflection.ReflectionEngine.invoke(ReflectionEngine.java:357)\n\tat py4j.Gateway.invoke(Gateway.java:282)\n\tat py4j.commands.AbstractCommand.invokeMethod(AbstractCommand.java:132)\n\tat py4j.commands.CallCommand.execute(CallCommand.java:79)\n\tat py4j.GatewayConnection.run(GatewayConnection.java:238)\n\tat java.lang.Thread.run(Thread.java:748)\nCaused by: org.apache.spark.sql.catalyst.analysis.NoSuchTableException: Table or view 'df_sum2' not found in database 'default';\n\tat org.apache.spark.sql.catalyst.catalog.ExternalCatalog$class.requireTableExists(ExternalCatalog.scala:48)\n\tat org.apache.spark.sql.catalyst.catalog.InMemoryCatalog.requireTableExists(InMemoryCatalog.scala:45)\n\tat org.apache.spark.sql.catalyst.catalog.InMemoryCatalog.getTable(InMemoryCatalog.scala:326)\n\tat org.apache.spark.sql.catalyst.catalog.ExternalCatalogWithListener.getTable(ExternalCatalogWithListener.scala:138)\n\tat org.apache.spark.sql.catalyst.catalog.SessionCatalog.lookupRelation(SessionCatalog.scala:706)\n\tat org.apache.spark.sql.catalyst.analysis.Analyzer$ResolveRelations$.org$apache$spark$sql$catalyst$analysis$Analyzer$ResolveRelations$$lookupTableFromCatalog(Analyzer.scala:728)\n\t... 63 more\n",
      "\nDuring handling of the above exception, another exception occurred:\n",
      "\u001b[0;31mAnalysisException\u001b[0m                         Traceback (most recent call last)",
      "\u001b[0;32m<ipython-input-352-c03b5017e9b4>\u001b[0m in \u001b[0;36m<module>\u001b[0;34m\u001b[0m\n\u001b[1;32m      7\u001b[0m                          range between unbounded preceding and current row)) as recency \\\n\u001b[1;32m      8\u001b[0m               \u001b[0;32mfrom\u001b[0m \u001b[0mdf_sum2\u001b[0m\u001b[0;31m \u001b[0m\u001b[0;31m\\\u001b[0m\u001b[0;34m\u001b[0m\u001b[0;34m\u001b[0m\u001b[0m\n\u001b[0;32m----> 9\u001b[0;31m               order by user, lifetime_indicator\")\n\u001b[0m\u001b[1;32m     10\u001b[0m \u001b[0;34m\u001b[0m\u001b[0m\n\u001b[1;32m     11\u001b[0m \u001b[0mRF\u001b[0m\u001b[0;34m.\u001b[0m\u001b[0mcreateOrReplaceTempView\u001b[0m\u001b[0;34m(\u001b[0m\u001b[0;34m\"df_x\"\u001b[0m\u001b[0;34m)\u001b[0m\u001b[0;34m\u001b[0m\u001b[0;34m\u001b[0m\u001b[0m\n",
      "\u001b[0;32m/usr/local/opt/apache-spark/libexec/python/pyspark/sql/session.py\u001b[0m in \u001b[0;36msql\u001b[0;34m(self, sqlQuery)\u001b[0m\n\u001b[1;32m    765\u001b[0m         \u001b[0;34m[\u001b[0m\u001b[0mRow\u001b[0m\u001b[0;34m(\u001b[0m\u001b[0mf1\u001b[0m\u001b[0;34m=\u001b[0m\u001b[0;36m1\u001b[0m\u001b[0;34m,\u001b[0m \u001b[0mf2\u001b[0m\u001b[0;34m=\u001b[0m\u001b[0;34mu'row1'\u001b[0m\u001b[0;34m)\u001b[0m\u001b[0;34m,\u001b[0m \u001b[0mRow\u001b[0m\u001b[0;34m(\u001b[0m\u001b[0mf1\u001b[0m\u001b[0;34m=\u001b[0m\u001b[0;36m2\u001b[0m\u001b[0;34m,\u001b[0m \u001b[0mf2\u001b[0m\u001b[0;34m=\u001b[0m\u001b[0;34mu'row2'\u001b[0m\u001b[0;34m)\u001b[0m\u001b[0;34m,\u001b[0m \u001b[0mRow\u001b[0m\u001b[0;34m(\u001b[0m\u001b[0mf1\u001b[0m\u001b[0;34m=\u001b[0m\u001b[0;36m3\u001b[0m\u001b[0;34m,\u001b[0m \u001b[0mf2\u001b[0m\u001b[0;34m=\u001b[0m\u001b[0;34mu'row3'\u001b[0m\u001b[0;34m)\u001b[0m\u001b[0;34m]\u001b[0m\u001b[0;34m\u001b[0m\u001b[0;34m\u001b[0m\u001b[0m\n\u001b[1;32m    766\u001b[0m         \"\"\"\n\u001b[0;32m--> 767\u001b[0;31m         \u001b[0;32mreturn\u001b[0m \u001b[0mDataFrame\u001b[0m\u001b[0;34m(\u001b[0m\u001b[0mself\u001b[0m\u001b[0;34m.\u001b[0m\u001b[0m_jsparkSession\u001b[0m\u001b[0;34m.\u001b[0m\u001b[0msql\u001b[0m\u001b[0;34m(\u001b[0m\u001b[0msqlQuery\u001b[0m\u001b[0;34m)\u001b[0m\u001b[0;34m,\u001b[0m \u001b[0mself\u001b[0m\u001b[0;34m.\u001b[0m\u001b[0m_wrapped\u001b[0m\u001b[0;34m)\u001b[0m\u001b[0;34m\u001b[0m\u001b[0;34m\u001b[0m\u001b[0m\n\u001b[0m\u001b[1;32m    768\u001b[0m \u001b[0;34m\u001b[0m\u001b[0m\n\u001b[1;32m    769\u001b[0m     \u001b[0;34m@\u001b[0m\u001b[0msince\u001b[0m\u001b[0;34m(\u001b[0m\u001b[0;36m2.0\u001b[0m\u001b[0;34m)\u001b[0m\u001b[0;34m\u001b[0m\u001b[0;34m\u001b[0m\u001b[0m\n",
      "\u001b[0;32m/usr/local/opt/apache-spark/libexec/python/lib/py4j-0.10.7-src.zip/py4j/java_gateway.py\u001b[0m in \u001b[0;36m__call__\u001b[0;34m(self, *args)\u001b[0m\n\u001b[1;32m   1255\u001b[0m         \u001b[0manswer\u001b[0m \u001b[0;34m=\u001b[0m \u001b[0mself\u001b[0m\u001b[0;34m.\u001b[0m\u001b[0mgateway_client\u001b[0m\u001b[0;34m.\u001b[0m\u001b[0msend_command\u001b[0m\u001b[0;34m(\u001b[0m\u001b[0mcommand\u001b[0m\u001b[0;34m)\u001b[0m\u001b[0;34m\u001b[0m\u001b[0;34m\u001b[0m\u001b[0m\n\u001b[1;32m   1256\u001b[0m         return_value = get_return_value(\n\u001b[0;32m-> 1257\u001b[0;31m             answer, self.gateway_client, self.target_id, self.name)\n\u001b[0m\u001b[1;32m   1258\u001b[0m \u001b[0;34m\u001b[0m\u001b[0m\n\u001b[1;32m   1259\u001b[0m         \u001b[0;32mfor\u001b[0m \u001b[0mtemp_arg\u001b[0m \u001b[0;32min\u001b[0m \u001b[0mtemp_args\u001b[0m\u001b[0;34m:\u001b[0m\u001b[0;34m\u001b[0m\u001b[0;34m\u001b[0m\u001b[0m\n",
      "\u001b[0;32m/usr/local/opt/apache-spark/libexec/python/pyspark/sql/utils.py\u001b[0m in \u001b[0;36mdeco\u001b[0;34m(*a, **kw)\u001b[0m\n\u001b[1;32m     67\u001b[0m                                              e.java_exception.getStackTrace()))\n\u001b[1;32m     68\u001b[0m             \u001b[0;32mif\u001b[0m \u001b[0ms\u001b[0m\u001b[0;34m.\u001b[0m\u001b[0mstartswith\u001b[0m\u001b[0;34m(\u001b[0m\u001b[0;34m'org.apache.spark.sql.AnalysisException: '\u001b[0m\u001b[0;34m)\u001b[0m\u001b[0;34m:\u001b[0m\u001b[0;34m\u001b[0m\u001b[0;34m\u001b[0m\u001b[0m\n\u001b[0;32m---> 69\u001b[0;31m                 \u001b[0;32mraise\u001b[0m \u001b[0mAnalysisException\u001b[0m\u001b[0;34m(\u001b[0m\u001b[0ms\u001b[0m\u001b[0;34m.\u001b[0m\u001b[0msplit\u001b[0m\u001b[0;34m(\u001b[0m\u001b[0;34m': '\u001b[0m\u001b[0;34m,\u001b[0m \u001b[0;36m1\u001b[0m\u001b[0;34m)\u001b[0m\u001b[0;34m[\u001b[0m\u001b[0;36m1\u001b[0m\u001b[0;34m]\u001b[0m\u001b[0;34m,\u001b[0m \u001b[0mstackTrace\u001b[0m\u001b[0;34m)\u001b[0m\u001b[0;34m\u001b[0m\u001b[0;34m\u001b[0m\u001b[0m\n\u001b[0m\u001b[1;32m     70\u001b[0m             \u001b[0;32mif\u001b[0m \u001b[0ms\u001b[0m\u001b[0;34m.\u001b[0m\u001b[0mstartswith\u001b[0m\u001b[0;34m(\u001b[0m\u001b[0;34m'org.apache.spark.sql.catalyst.analysis'\u001b[0m\u001b[0;34m)\u001b[0m\u001b[0;34m:\u001b[0m\u001b[0;34m\u001b[0m\u001b[0;34m\u001b[0m\u001b[0m\n\u001b[1;32m     71\u001b[0m                 \u001b[0;32mraise\u001b[0m \u001b[0mAnalysisException\u001b[0m\u001b[0;34m(\u001b[0m\u001b[0ms\u001b[0m\u001b[0;34m.\u001b[0m\u001b[0msplit\u001b[0m\u001b[0;34m(\u001b[0m\u001b[0;34m': '\u001b[0m\u001b[0;34m,\u001b[0m \u001b[0;36m1\u001b[0m\u001b[0;34m)\u001b[0m\u001b[0;34m[\u001b[0m\u001b[0;36m1\u001b[0m\u001b[0;34m]\u001b[0m\u001b[0;34m,\u001b[0m \u001b[0mstackTrace\u001b[0m\u001b[0;34m)\u001b[0m\u001b[0;34m\u001b[0m\u001b[0;34m\u001b[0m\u001b[0m\n",
      "\u001b[0;31mAnalysisException\u001b[0m: 'Table or view not found: df_sum2; line 1 pos 358'"
     ]
    }
   ],
   "source": [
    "# create the final table with recency, frequency, lifetime \n",
    "RF = spark.sql(\"select user, lifetime_indicator, max_days, \\\n",
    "                ifnull(freq_times, 0)/30 as frequency, \\\n",
    "                (lifetime_indicator*30-max(max_days) \\\n",
    "                    over(partition by user \\\n",
    "                         order by lifetime_indicator asc \\\n",
    "                         range between unbounded preceding and current row)) as recency \\\n",
    "              from df_sum2 \\\n",
    "              order by user, lifetime_indicator\")\n",
    "\n",
    "RF.createOrReplaceTempView(\"df_x\")\n",
    "RF.show(60)"
   ]
  },
  {
   "cell_type": "markdown",
   "metadata": {
    "colab_type": "text",
    "id": "QbGiguZxDZwC"
   },
   "source": [
    "### Q9. Regress recency and frequency on Y and plot the MSE for each lifetime plot"
   ]
  },
  {
   "cell_type": "code",
   "execution_count": 42,
   "metadata": {
    "colab": {},
    "colab_type": "code",
    "id": "ywqd-cs2D3Re"
   },
   "outputs": [],
   "source": [
    "from pyspark.ml.regression import LinearRegression"
   ]
  },
  {
   "cell_type": "code",
   "execution_count": 333,
   "metadata": {
    "colab": {},
    "colab_type": "code",
    "id": "umVTMuaMYjae"
   },
   "outputs": [],
   "source": [
    "# # join two tables into one table containing frequency, recency, lifetime and number of transactions\n",
    "df5.createOrReplaceTempView(\"df5\")\n",
    "RF_final = spark.sql(\"select RF.user, RF.lifetime_indicator as lifetime, RF.frequency as frequency_within_month, RF.recency as recency_within_month, df5.number_of_transactions_within_12_months from RF inner join df5 on RF.user = df5.user\")"
   ]
  },
  {
   "cell_type": "code",
   "execution_count": 215,
   "metadata": {
    "colab": {},
    "colab_type": "code",
    "id": "I4epa6lojT0C"
   },
   "outputs": [],
   "source": [
    "RF_final.createOrReplaceTempView(\"RF_final_2\")\n",
    "\n",
    "t0 = spark.sql(\"select * from RF_final_2 where lifetime = 0\")\n",
    "t1 = spark.sql(\"select * from RF_final_2 where lifetime = 1\")\n",
    "t2 = spark.sql(\"select * from RF_final_2 where lifetime = 2\")\n",
    "t3 = spark.sql(\"select * from RF_final_2 where lifetime = 3\")\n",
    "t4 = spark.sql(\"select * from RF_final_2 where lifetime = 4\")\n",
    "t5 = spark.sql(\"select * from RF_final_2 where lifetime = 5\")\n",
    "t6 = spark.sql(\"select * from RF_final_2 where lifetime = 6\")\n",
    "t7 = spark.sql(\"select * from RF_final_2 where lifetime = 7\")\n",
    "t8 = spark.sql(\"select * from RF_final_2 where lifetime = 8\")\n",
    "t9 = spark.sql(\"select * from RF_final_2 where lifetime = 9\")\n",
    "t10 = spark.sql(\"select * from RF_final_2 where lifetime = 10\")\n",
    "t11 = spark.sql(\"select * from RF_final_2 where lifetime = 11\")\n",
    "t12 = spark.sql(\"select * from RF_final_2 where lifetime = 12\")"
   ]
  },
  {
   "cell_type": "code",
   "execution_count": 211,
   "metadata": {
    "colab": {},
    "colab_type": "code",
    "id": "R9RM5Fd8lEo0"
   },
   "outputs": [],
   "source": [
    "# define the linear regression model\n",
    "def linear_model(data):\n",
    "    from pyspark.ml.regression import LinearRegression\n",
    "    from pyspark.ml.evaluation import RegressionEvaluator\n",
    "    from pyspark.ml.feature import VectorAssembler\n",
    "    vectorAssembler = VectorAssembler(inputCols = ['recency_within_month', 'frequency_within_month','lifetime'], outputCol = 'features')\n",
    "    transformed = vectorAssembler.transform(data)\n",
    "    transformed = transformed.select('features', 'number_of_transactions_within_12_months')\n",
    "\n",
    "    train_df, test_df = transformed.randomSplit([0.7, 0.3], seed = 1)\n",
    "\n",
    "    lr = LinearRegression(featuresCol = 'features', labelCol='number_of_transactions_within_12_months')\n",
    "    lr_model = lr.fit(train_df)\n",
    "\n",
    "    testResults = lr_model.evaluate(test_df)\n",
    "    rmse = testResults.rootMeanSquaredError\n",
    "    mse = rmse**2\n",
    "  \n",
    "    return mse"
   ]
  },
  {
   "cell_type": "code",
   "execution_count": 212,
   "metadata": {
    "colab": {
     "base_uri": "https://localhost:8080/",
     "height": 307
    },
    "colab_type": "code",
    "id": "y792C6zfg3D3",
    "outputId": "53e9f314-a1ff-4ea3-f909-0006cd605ee4"
   },
   "outputs": [],
   "source": [
    "mse_t0 = linear_model(t0)"
   ]
  },
  {
   "cell_type": "code",
   "execution_count": 213,
   "metadata": {},
   "outputs": [
    {
     "data": {
      "text/plain": [
       "11.168223910854033"
      ]
     },
     "execution_count": 213,
     "metadata": {},
     "output_type": "execute_result"
    }
   ],
   "source": [
    "mse_t0"
   ]
  },
  {
   "cell_type": "code",
   "execution_count": 216,
   "metadata": {
    "colab": {},
    "colab_type": "code",
    "id": "INtbZMcIv3L0"
   },
   "outputs": [],
   "source": [
    "mse_t1 = linear_model(t1)"
   ]
  },
  {
   "cell_type": "code",
   "execution_count": 217,
   "metadata": {},
   "outputs": [
    {
     "data": {
      "text/plain": [
       "9.590800710097822"
      ]
     },
     "execution_count": 217,
     "metadata": {},
     "output_type": "execute_result"
    }
   ],
   "source": [
    "mse_t1"
   ]
  },
  {
   "cell_type": "code",
   "execution_count": 218,
   "metadata": {
    "colab": {},
    "colab_type": "code",
    "id": "nBul4BXYv3dp"
   },
   "outputs": [],
   "source": [
    "mse_t2 = linear_model(t2)"
   ]
  },
  {
   "cell_type": "code",
   "execution_count": 219,
   "metadata": {},
   "outputs": [
    {
     "data": {
      "text/plain": [
       "8.738414171514538"
      ]
     },
     "execution_count": 219,
     "metadata": {},
     "output_type": "execute_result"
    }
   ],
   "source": [
    "mse_t2"
   ]
  },
  {
   "cell_type": "code",
   "execution_count": 220,
   "metadata": {
    "colab": {},
    "colab_type": "code",
    "id": "3VhUf1kGv3nB"
   },
   "outputs": [],
   "source": [
    "mse_t3 = linear_model(t3)"
   ]
  },
  {
   "cell_type": "code",
   "execution_count": 221,
   "metadata": {},
   "outputs": [
    {
     "data": {
      "text/plain": [
       "8.016839058200496"
      ]
     },
     "execution_count": 221,
     "metadata": {},
     "output_type": "execute_result"
    }
   ],
   "source": [
    "mse_t3"
   ]
  },
  {
   "cell_type": "code",
   "execution_count": 222,
   "metadata": {
    "colab": {},
    "colab_type": "code",
    "id": "uesIZtHTv3rN"
   },
   "outputs": [],
   "source": [
    "mse_t4 = linear_model(t4)"
   ]
  },
  {
   "cell_type": "code",
   "execution_count": 223,
   "metadata": {},
   "outputs": [
    {
     "data": {
      "text/plain": [
       "7.400945275016231"
      ]
     },
     "execution_count": 223,
     "metadata": {},
     "output_type": "execute_result"
    }
   ],
   "source": [
    "mse_t4"
   ]
  },
  {
   "cell_type": "code",
   "execution_count": 224,
   "metadata": {
    "colab": {},
    "colab_type": "code",
    "id": "FGRNPfd-v3v8"
   },
   "outputs": [],
   "source": [
    "mse_t5 = linear_model(t5)"
   ]
  },
  {
   "cell_type": "code",
   "execution_count": 225,
   "metadata": {},
   "outputs": [
    {
     "data": {
      "text/plain": [
       "6.906812386075373"
      ]
     },
     "execution_count": 225,
     "metadata": {},
     "output_type": "execute_result"
    }
   ],
   "source": [
    "mse_t5"
   ]
  },
  {
   "cell_type": "code",
   "execution_count": 226,
   "metadata": {
    "colab": {},
    "colab_type": "code",
    "id": "BkmtICZMv3yz"
   },
   "outputs": [],
   "source": [
    "mse_t6 = linear_model(t6)"
   ]
  },
  {
   "cell_type": "code",
   "execution_count": 227,
   "metadata": {},
   "outputs": [
    {
     "data": {
      "text/plain": [
       "6.338554273812906"
      ]
     },
     "execution_count": 227,
     "metadata": {},
     "output_type": "execute_result"
    }
   ],
   "source": [
    "mse_t6"
   ]
  },
  {
   "cell_type": "code",
   "execution_count": 228,
   "metadata": {
    "colab": {},
    "colab_type": "code",
    "id": "VvpFANKNv31m"
   },
   "outputs": [],
   "source": [
    "mse_t7 = linear_model(t7)"
   ]
  },
  {
   "cell_type": "code",
   "execution_count": 229,
   "metadata": {},
   "outputs": [
    {
     "data": {
      "text/plain": [
       "5.907770253110363"
      ]
     },
     "execution_count": 229,
     "metadata": {},
     "output_type": "execute_result"
    }
   ],
   "source": [
    "mse_t7"
   ]
  },
  {
   "cell_type": "code",
   "execution_count": 230,
   "metadata": {
    "colab": {},
    "colab_type": "code",
    "id": "s58kNs_ev34O"
   },
   "outputs": [],
   "source": [
    "mse_t8 = linear_model(t8)"
   ]
  },
  {
   "cell_type": "code",
   "execution_count": 231,
   "metadata": {},
   "outputs": [
    {
     "data": {
      "text/plain": [
       "5.629108673942838"
      ]
     },
     "execution_count": 231,
     "metadata": {},
     "output_type": "execute_result"
    }
   ],
   "source": [
    "mse_t8"
   ]
  },
  {
   "cell_type": "code",
   "execution_count": 232,
   "metadata": {
    "colab": {},
    "colab_type": "code",
    "id": "BSYzkzuav37H"
   },
   "outputs": [],
   "source": [
    "mse_t9 = linear_model(t9)"
   ]
  },
  {
   "cell_type": "code",
   "execution_count": 233,
   "metadata": {},
   "outputs": [
    {
     "data": {
      "text/plain": [
       "6.358413810636061"
      ]
     },
     "execution_count": 233,
     "metadata": {},
     "output_type": "execute_result"
    }
   ],
   "source": [
    "mse_t9"
   ]
  },
  {
   "cell_type": "code",
   "execution_count": 234,
   "metadata": {
    "colab": {},
    "colab_type": "code",
    "id": "ZNmFyPQYv39_"
   },
   "outputs": [],
   "source": [
    "mse_t10 = linear_model(t10)"
   ]
  },
  {
   "cell_type": "code",
   "execution_count": 251,
   "metadata": {},
   "outputs": [
    {
     "data": {
      "text/plain": [
       "5.398"
      ]
     },
     "execution_count": 251,
     "metadata": {},
     "output_type": "execute_result"
    }
   ],
   "source": [
    "mse_t10"
   ]
  },
  {
   "cell_type": "code",
   "execution_count": 236,
   "metadata": {
    "colab": {},
    "colab_type": "code",
    "id": "eChQ3OxHv4EY"
   },
   "outputs": [],
   "source": [
    "mse_t11 = linear_model(t11)"
   ]
  },
  {
   "cell_type": "code",
   "execution_count": 252,
   "metadata": {},
   "outputs": [
    {
     "data": {
      "text/plain": [
       "4.987"
      ]
     },
     "execution_count": 252,
     "metadata": {},
     "output_type": "execute_result"
    }
   ],
   "source": [
    "mse_t11"
   ]
  },
  {
   "cell_type": "code",
   "execution_count": 335,
   "metadata": {},
   "outputs": [],
   "source": [
    "mse_t12 = linear_model(t12)"
   ]
  },
  {
   "cell_type": "code",
   "execution_count": 337,
   "metadata": {},
   "outputs": [
    {
     "data": {
      "text/plain": [
       "4.59885"
      ]
     },
     "execution_count": 337,
     "metadata": {},
     "output_type": "execute_result"
    }
   ],
   "source": [
    "mse_t12"
   ]
  },
  {
   "cell_type": "code",
   "execution_count": 340,
   "metadata": {
    "colab": {},
    "colab_type": "code",
    "id": "Dgs1smo5NJsc"
   },
   "outputs": [],
   "source": [
    "mse = [mse_t0, mse_t1, mse_t2, mse_t3, mse_t4, mse_t5, mse_t6, mse_t7, mse_t8, mse_t9, mse_t10,mse_t11,mse_t12]"
   ]
  },
  {
   "cell_type": "code",
   "execution_count": 243,
   "metadata": {
    "colab": {},
    "colab_type": "code",
    "id": "aNet94EZNVFq"
   },
   "outputs": [],
   "source": [
    "import matplotlib.pyplot as plt"
   ]
  },
  {
   "cell_type": "code",
   "execution_count": 342,
   "metadata": {
    "colab": {
     "base_uri": "https://localhost:8080/",
     "height": 281
    },
    "colab_type": "code",
    "id": "-5OC_eamWZvG",
    "outputId": "2c5600cf-d0f7-4e0f-c8ad-4941e916b9e9"
   },
   "outputs": [
    {
     "data": {
      "image/png": "[encoded data removed]",
      "text/plain": [
       "<Figure size 432x288 with 1 Axes>"
      ]
     },
     "metadata": {
      "needs_background": "light"
     },
     "output_type": "display_data"
    }
   ],
   "source": [
    "# plot the MSE plot\n",
    "plt.plot(range(0,13), mse, marker = 'X', c = 'g')\n",
    "plt.title('MSE Across User Lifetime(0-12)')\n",
    "plt.xticks(range(0,13),['t0','t1','t2','t3','t4','t5','t6','t7','t8','t9','t10','t11','t12'])\n",
    "plt.show()"
   ]
  },
  {
   "cell_type": "markdown",
   "metadata": {
    "colab": {},
    "colab_type": "code",
    "id": "FTN41oCg-UGC"
   },
   "source": [
    "### Q10 For each user’s lifetime point, regress recency, frequency AND her spending behavior profile on Y. Plot the MSE for each lifetime point like above. Did you get any improvement?"
   ]
  },
  {
   "cell_type": "code",
   "execution_count": 253,
   "metadata": {
    "colab": {},
    "colab_type": "code",
    "id": "CftAE8FJ-UKO"
   },
   "outputs": [],
   "source": [
    "# join the Recency-Frequency table with the spending behavior profile table\n",
    "combined1 = spark.sql(\"\"\"select *\n",
    "from dynamic_profile_clean inner join RF_final on dynamic_profile_clean.User=RF_final.user and dynamic_profile_clean.month=RF_final.lifetime\"\"\")"
   ]
  },
  {
   "cell_type": "code",
   "execution_count": 254,
   "metadata": {
    "colab": {},
    "colab_type": "code",
    "id": "QoefxKmK-UPa"
   },
   "outputs": [
    {
     "name": "stdout",
     "output_type": "stream",
     "text": [
      "+-------+-----+-----+-----------+---------+--------+----+-----+------------------+-------+-------------------+-------------------+------+-------+-----+--------+----------------------+--------------------+---------------------------------------+\n",
      "|    _c0| User|month|total_trans|total_sum|activity|cash|event|              food|illegal|             people|     transportation|travel|utility| user|lifetime|frequency_within_month|recency_within_month|number_of_transactions_within_12_months|\n",
      "+-------+-----+-----+-----------+---------+--------+----+-----+------------------+-------+-------------------+-------------------+------+-------+-----+--------+----------------------+--------------------+---------------------------------------+\n",
      "|1840078|   43|    7|          1|        6|     0.0| 0.0|  0.0|0.3333333333333333|    0.0|0.16666666666666666|0.16666666666666666|   0.0|    0.0|   43|       7|   0.03333333333333333|                   6|                                     18|\n",
      "|1264749| 2391|   11|          1|        7|     0.0| 0.0|  0.0|0.2857142857142857|    0.0|                0.0|                0.0|   0.0|    0.0| 2391|      11|   0.03333333333333333|                   2|                                      8|\n",
      "|3585292|26408|   12|          1|        3|     0.0| 0.0|  0.0|0.3333333333333333|    0.0| 0.3333333333333333|                0.0|   0.0|    0.0|26408|      12|   0.06666666666666667|                  12|                                      5|\n",
      "+-------+-----+-----+-----------+---------+--------+----+-----+------------------+-------+-------------------+-------------------+------+-------+-----+--------+----------------------+--------------------+---------------------------------------+\n",
      "only showing top 3 rows\n",
      "\n"
     ]
    }
   ],
   "source": [
    "combined1.show(3)"
   ]
  },
  {
   "cell_type": "code",
   "execution_count": 255,
   "metadata": {
    "colab": {},
    "colab_type": "code",
    "id": "IjCaPC34-UT1"
   },
   "outputs": [],
   "source": [
    "from pyspark.ml.feature import VectorAssembler\n",
    "vectorAssembler = VectorAssembler(inputCols = ['recency_within_month', 'frequency_within_month','activity','cash','event','food','illegal','people','transportation','travel','utility'], outputCol = 'features')\n",
    "combined1 = vectorAssembler.transform(combined1)\n",
    "combined1 = combined1.select(['features', 'number_of_transactions_within_12_months','lifetime'])"
   ]
  },
  {
   "cell_type": "code",
   "execution_count": 256,
   "metadata": {
    "colab": {},
    "colab_type": "code",
    "id": "9fcuw5r7-UWu"
   },
   "outputs": [],
   "source": [
    "combined1.createOrReplaceTempView(\"combined1\")\n",
    "t0 = spark.sql(\"select features, number_of_transactions_within_12_months from combined1 where lifetime = 0\")\n",
    "t1 = spark.sql(\"select features, number_of_transactions_within_12_months from combined1 where lifetime = 1\")\n",
    "t2 = spark.sql(\"select features, number_of_transactions_within_12_months from combined1 where lifetime = 2\")\n",
    "t3 = spark.sql(\"select features, number_of_transactions_within_12_months from combined1 where lifetime = 3\")\n",
    "t4 = spark.sql(\"select features, number_of_transactions_within_12_months from combined1 where lifetime = 4\")\n",
    "t5 = spark.sql(\"select features, number_of_transactions_within_12_months from combined1 where lifetime = 5\")\n",
    "t6 = spark.sql(\"select features, number_of_transactions_within_12_months from combined1 where lifetime = 6\")\n",
    "t7 = spark.sql(\"select features, number_of_transactions_within_12_months from combined1 where lifetime = 7\")\n",
    "t8 = spark.sql(\"select features, number_of_transactions_within_12_months from combined1 where lifetime = 8\")\n",
    "t9 = spark.sql(\"select features, number_of_transactions_within_12_months from combined1 where lifetime = 9\")\n",
    "t10 = spark.sql(\"select features, number_of_transactions_within_12_months from combined1 where lifetime = 10\")\n",
    "t11 = spark.sql(\"select features, number_of_transactions_within_12_months from combined1 where lifetime = 11\")"
   ]
  },
  {
   "cell_type": "code",
   "execution_count": 257,
   "metadata": {
    "colab": {},
    "colab_type": "code",
    "id": "e_45_v7R-USC"
   },
   "outputs": [],
   "source": [
    "mse_t0 = linear_model(t0)\n",
    "mse_t1 = linear_model(t1)\n",
    "mse_t2 = linear_model(t2)\n",
    "mse_t3 = linear_model(t3)\n",
    "mse_t4 = linear_model(t4)\n",
    "mse_t5 = linear_model(t5)\n",
    "mse_t6 = linear_model(t6)\n",
    "mse_t7 = linear_model(t7)\n",
    "mse_t8 = linear_model(t8)\n",
    "mse_t9 = linear_model(t9)\n",
    "mse_t10 = linear_model(t10)\n",
    "mse_t11 = linear_model(t11)"
   ]
  },
  {
   "cell_type": "code",
   "execution_count": 258,
   "metadata": {
    "colab": {},
    "colab_type": "code",
    "id": "kYXOLAUE-UNA"
   },
   "outputs": [],
   "source": [
    "mse = [mse_t0, mse_t1, mse_t2, mse_t3, mse_t4, mse_t5, mse_t6, mse_t7, mse_t8, mse_t9, mse_t10,mse_t11]"
   ]
  },
  {
   "cell_type": "code",
   "execution_count": 259,
   "metadata": {
    "colab": {},
    "colab_type": "code",
    "id": "UrG1YFG--UIi"
   },
   "outputs": [],
   "source": [
    "plt.plot(range(0,12), mse, marker = 'X', c = 'g')\n",
    "plt.title('MSE Across User Lifetime(0-11)')\n",
    "plt.xticks(range(0,12),['t0','t1','t2','t3','t4','t5','t6','t7','t8','t9','t10','t11'])\n",
    "plt.show()"
   ]
  },
  {
   "cell_type": "markdown",
   "metadata": {},
   "source": [
    "<img style=\"float: left;\" src=\"Q10.png\" width=\"40%\">"
   ]
  },
  {
   "cell_type": "markdown",
   "metadata": {
    "colab": {},
    "colab_type": "code",
    "id": "hVr8XgBh-UED"
   },
   "source": [
    "### Q11 For each user’s lifetime point, regress her social network metrics on Y. Plot the MSE for each lifetime point like above. What do you observe? How do social network metrics compare with the RF framework? What are the most informative predictors?"
   ]
  },
  {
   "cell_type": "code",
   "execution_count": 265,
   "metadata": {
    "colab": {},
    "colab_type": "code",
    "id": "SlOf_4wk-UB7"
   },
   "outputs": [],
   "source": [
    "# join the Recency-Frequency table with the social network metric table\n",
    "combined2 = spark.sql(\"\"\"select *\n",
    "from network_analytic inner join RF_final on network_analytic.user1=RF_final.user and network_analytic.month=RF_final.lifetime\"\"\")"
   ]
  },
  {
   "cell_type": "code",
   "execution_count": 266,
   "metadata": {
    "colab": {},
    "colab_type": "code",
    "id": "YvQfONnJ-T9E"
   },
   "outputs": [],
   "source": [
    "combined2.show(3)"
   ]
  },
  {
   "cell_type": "code",
   "execution_count": null,
   "metadata": {},
   "outputs": [],
   "source": [
    "from pyspark.ml.feature import VectorAssembler\n",
    "vectorAssembler = VectorAssembler(inputCols = ['friend_num','fof_num','cluster_coef'], outputCol = 'features')\n",
    "combined2 = vectorAssembler.transform(combined2)\n",
    "combined2 = combined2.select(['features', 'number_of_transactions_within_12_months','lifetime'])\n",
    "combined2.show(20)"
   ]
  },
  {
   "cell_type": "code",
   "execution_count": null,
   "metadata": {},
   "outputs": [],
   "source": [
    "combined2.createOrReplaceTempView(\"combined2\")\n",
    "t0 = spark.sql(\"select features, number_of_transactions_within_12_months from combined2 where lifetime = 0\")\n",
    "t1 = spark.sql(\"select features, number_of_transactions_within_12_months from combined2 where lifetime = 1\")\n",
    "t2 = spark.sql(\"select features, number_of_transactions_within_12_months from combined2 where lifetime = 2\")\n",
    "t3 = spark.sql(\"select features, number_of_transactions_within_12_months from combined2 where lifetime = 3\")\n",
    "t4 = spark.sql(\"select features, number_of_transactions_within_12_months from combined2 where lifetime = 4\")\n",
    "t5 = spark.sql(\"select features, number_of_transactions_within_12_months from combined2 where lifetime = 5\")\n",
    "t6 = spark.sql(\"select features, number_of_transactions_within_12_months from combined2 where lifetime = 6\")\n",
    "t7 = spark.sql(\"select features, number_of_transactions_within_12_months from combined2 where lifetime = 7\")\n",
    "t8 = spark.sql(\"select features, number_of_transactions_within_12_months from combined2 where lifetime = 8\")\n",
    "t9 = spark.sql(\"select features, number_of_transactions_within_12_months from combined2 where lifetime = 9\")\n",
    "t10 = spark.sql(\"select features, number_of_transactions_within_12_months from combined2 where lifetime = 10\")\n",
    "t11 = spark.sql(\"select features, number_of_transactions_within_12_months from combined2 where lifetime = 11\")"
   ]
  },
  {
   "cell_type": "code",
   "execution_count": null,
   "metadata": {},
   "outputs": [],
   "source": [
    "mse = []\n",
    "\n",
    "for model in [t0,t1,t2,t3,t4,t5,t6,t7,t8,t9,t10,t11]:\n",
    "    mse.append(linear_model(model))"
   ]
  },
  {
   "cell_type": "code",
   "execution_count": null,
   "metadata": {},
   "outputs": [],
   "source": [
    "plt.plot(range(0,12), mse, marker = 'X', c = 'g')\n",
    "plt.title('MSE Across User Lifetime(0-11)')\n",
    "plt.xticks(range(0,12),['t0','t1','t2','t3','t4','t5','t6','t7','t8','t9','t10','t11'])\n",
    "plt.show()"
   ]
  },
  {
   "cell_type": "markdown",
   "metadata": {
    "colab": {},
    "colab_type": "code",
    "id": "tFdih_xd-T4H"
   },
   "source": [
    "### Q12 For each user’s lifetime point, regress her social network metrics and the spending behavior of her social network on Y. Plot the MSE for each lifetime point like above. Does the spending behavior of her social network add any predictive benefit compared to Q10?"
   ]
  },
  {
   "cell_type": "code",
   "execution_count": null,
   "metadata": {},
   "outputs": [],
   "source": [
    "#calcualte dynamic social network spending behavior\n",
    "\n",
    "combined3 = spark.sql(\"\"\"select user1, netbehave_dynamic.month,mean(number_of_transactions_within_12_months) number_of_transactions_within_12_months, mean(friend_num) friend_num, mean(fof_num) fof_num, mean(cluster_coef) cluster_coef, avg(activity) activity, avg(cash) cash, avg(event) event, avg(food) food, avg(illegal) as illegal,\n",
    "avg(people) people, avg(transportation) transportation, avg(travel) travel, avg(utility) utility\n",
    "from netbehave_dynamic inner join dynamic_profile_clean on netbehave_dynamic.user2=dynamic_profile_clean.User and netbehave_dynamic.month=dynamic_profile_clean.month\n",
    "group by netbehave_dynamic.month and netbehave_dynamic.user1\"\"\")\n"
   ]
  },
  {
   "cell_type": "code",
   "execution_count": null,
   "metadata": {},
   "outputs": [],
   "source": [
    "from pyspark.ml.feature import VectorAssembler\n",
    "vectorAssembler = VectorAssembler(inputCols = ['friend_num','fof_num','cluster_coef','activity','cash','event','food','illegal','people','transportation','travel','utility'], outputCol = 'features')\n",
    "combined3 = vectorAssembler.transform(combined3)\n",
    "combined3 = combined2.select(['features', 'number_of_transactions_within_12_months','month'])\n"
   ]
  },
  {
   "cell_type": "code",
   "execution_count": null,
   "metadata": {},
   "outputs": [],
   "source": [
    "combined3.createOrReplaceTempView(\"combined3\")\n",
    "t0 = spark.sql(\"select features, number_of_transactions_within_12_months from combined3 where month = 0\")\n",
    "t1 = spark.sql(\"select features, number_of_transactions_within_12_months from combined3 where month = 1\")\n",
    "t2 = spark.sql(\"select features, number_of_transactions_within_12_months from combined3 where month = 2\")\n",
    "t3 = spark.sql(\"select features, number_of_transactions_within_12_months from combined3 where month = 3\")\n",
    "t4 = spark.sql(\"select features, number_of_transactions_within_12_months from combined3 where month = 4\")\n",
    "t5 = spark.sql(\"select features, number_of_transactions_within_12_months from combined3 where month = 5\")\n",
    "t6 = spark.sql(\"select features, number_of_transactions_within_12_months from combined3 where month = 6\")\n",
    "t7 = spark.sql(\"select features, number_of_transactions_within_12_months from combined3 where month = 7\")\n",
    "t8 = spark.sql(\"select features, number_of_transactions_within_12_months from combined3 where month = 8\")\n",
    "t9 = spark.sql(\"select features, number_of_transactions_within_12_months from combined3 where month = 9\")\n",
    "t10 = spark.sql(\"select features, number_of_transactions_within_12_months from combined3 where month = 10\")\n",
    "t11 = spark.sql(\"select features, number_of_transactions_within_12_months from combined3 where month = 11\")"
   ]
  },
  {
   "cell_type": "code",
   "execution_count": null,
   "metadata": {},
   "outputs": [],
   "source": [
    "mse = []\n",
    "\n",
    "for model in [t0,t1,t2,t3,t4,t5,t6,t7,t8,t9,t10,t11]:\n",
    "    mse.append(linear_model(model))\n",
    "    \n",
    "plt.plot(range(0,12), mse, marker = 'X', c = 'g')\n",
    "plt.title('MSE Across User Lifetime(0-11)')\n",
    "plt.xticks(range(0,12),['t0','t1','t2','t3','t4','t5','t6','t7','t8','t9','t10','t11'])\n",
    "plt.show()"
   ]
  }
 ],
 "metadata": {
  "accelerator": "GPU",
  "colab": {
   "collapsed_sections": [],
   "name": "XX_Test.ipynb",
   "provenance": []
  },
  "kernelspec": {
   "display_name": "Python 3",
   "language": "python",
   "name": "python3"
  },
  "language_info": {
   "codemirror_mode": {
    "name": "ipython",
    "version": 3
   },
   "file_extension": ".py",
   "mimetype": "text/x-python",
   "name": "python",
   "nbconvert_exporter": "python",
   "pygments_lexer": "ipython3",
   "version": "3.7.6"
  }
 },
 "nbformat": 4,
 "nbformat_minor": 1
}
